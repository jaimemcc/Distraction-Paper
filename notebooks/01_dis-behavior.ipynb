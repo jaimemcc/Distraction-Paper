{
 "cells": [
  {
   "cell_type": "code",
   "execution_count": 2,
   "metadata": {},
   "outputs": [],
   "source": [
    "import dill\n",
    "import matplotlib.pyplot as plt\n",
    "import matplotlib as mpl\n",
    "import matplotlib.transforms as transforms\n",
    "import numpy as np\n",
    "import csv\n",
    "from scipy import stats\n",
    "import trompy as tp\n",
    "\n",
    "# %run ..//JM_custom_figs.py\n",
    "%matplotlib inline"
   ]
  },
  {
   "cell_type": "code",
   "execution_count": 3,
   "metadata": {},
   "outputs": [],
   "source": [
    "# fig settings\n",
    "scattersize=50\n",
    "colors = ['darkturquoise','dodgerblue', 'darkblue']"
   ]
  },
  {
   "cell_type": "code",
   "execution_count": 4,
   "metadata": {},
   "outputs": [],
   "source": [
    "datafolder = \"C:\\\\Github\\\\Distraction-Paper\\\\data\\\\\"\n",
    "figfolder = \"C:\\\\Github\\\\Distraction-Paper\\\\figs\\\\\"\n",
    "statsfolder = \"C:\\\\Github\\\\Distraction-Paper\\\\stats\\\\\"\n",
    "\n",
    "try:\n",
    "    pickle_in = open(datafolder + \"distraction_data_only_snips.pickle\", 'rb')\n",
    "except FileNotFoundError:\n",
    "        print('Cannot access pickled file')\n",
    "\n",
    "[modDict, disDict, habDict] = dill.load(pickle_in)"
   ]
  },
  {
   "cell_type": "code",
   "execution_count": 5,
   "metadata": {},
   "outputs": [
    {
     "data": {
      "text/plain": [
       "''"
      ]
     },
     "execution_count": 5,
     "metadata": {},
     "output_type": "execute_result"
    }
   ],
   "source": [
    "# thph2.8 removed from analysis because no data on habituation day\n",
    "\n",
    "modDict.pop('thph2.8')\n",
    "disDict.pop('thph2.8')\n",
    ";"
   ]
  },
  {
   "cell_type": "code",
   "execution_count": 6,
   "metadata": {},
   "outputs": [],
   "source": [
    "d = disDict[\"thph2.1\"]\n"
   ]
  },
  {
   "cell_type": "code",
   "execution_count": 7,
   "metadata": {},
   "outputs": [],
   "source": [
    "# adds parameters used for figures - no. of distractors, distracted, not distracted and calculates probability of distraction\n",
    "\n",
    "for day in [modDict, disDict, habDict]:\n",
    "    rats = day.keys()\n",
    "    for rat in rats:\n",
    "        d = day[rat]\n",
    "        # check that numbers add up\n",
    "        d ['#ds'] =len(d['distractors'])\n",
    "        d ['#distracted'] =len(d['distracted'])\n",
    "        d ['#not-dis'] =len(d['notdistracted'])   \n",
    "        if d['#not-dis'] + d['#distracted'] == d['#ds']:\n",
    "            d['prob-distracted'] = d['#distracted'] / d['#ds']\n",
    "        else:\n",
    "            print(\"Something wrong in the number of distracted and non-distracted trials\")\n"
   ]
  },
  {
   "cell_type": "code",
   "execution_count": 8,
   "metadata": {},
   "outputs": [],
   "source": [
    "# makes lists with probability of distraction for each day\n",
    "\n",
    "probdisMod, probdisDis, probdisHab = [], [], []\n",
    "for day, output in zip([modDict, disDict, habDict],\n",
    "                      [probdisMod, probdisDis, probdisHab]):\n",
    "    rats = day.keys()\n",
    "    for rat in rats:\n",
    "        d = day[rat]\n",
    "        output.append(d['prob-distracted'])"
   ]
  },
  {
   "cell_type": "code",
   "execution_count": 9,
   "metadata": {},
   "outputs": [
    {
     "data": {
      "image/png": "[encoded data removed]",
      "text/plain": [
       "<Figure size 144x216 with 1 Axes>"
      ]
     },
     "metadata": {
      "needs_background": "light"
     },
     "output_type": "display_data"
    }
   ],
   "source": [
    "# makes panel for figure 1 showing probability of distraction\n",
    "\n",
    "f, ax = plt.subplots(figsize=(2,3))\n",
    "f.subplots_adjust(left=0.4)\n",
    "tp.barscatter([probdisMod, probdisDis, probdisHab], paired=True,\n",
    "           barfacecolor=colors, barfacecoloroption='individual',\n",
    "           barlabels=['Mod', 'Dis', 'Hab'],\n",
    "           barlabeloffset=-0.04,\n",
    "           scattersize=scattersize,\n",
    "           ax=ax)\n",
    "\n",
    "ax.set_ylabel('Probability of distraction')\n",
    "ax.set_xticks([])\n",
    "# ax.set_xticks([1,2,3])\n",
    "# ax.set_xticklabels(['Mod', 'Dis', 'Hab'])\n",
    "ax.set_ylim([-0.1, 1.1])\n",
    "\n",
    "f.savefig(figfolder+\"fig1_probability of distraction.pdf\")"
   ]
  },
  {
   "cell_type": "code",
   "execution_count": 15,
   "metadata": {},
   "outputs": [
    {
     "name": "stdout",
     "output_type": "stream",
     "text": [
      "Mean: 0.035736657778564794, SEM: 0.010063763058217283\n",
      "Mean: 0.48438394306147653, SEM: 0.0686893248420231\n",
      "Mean: 0.23832920617079603, SEM: 0.06087197101162473\n",
      "Mod vs. Dis - t-stat: 6.4, corrected p: 0.0001\n",
      "Dis vs. Hab - t-stat: 5.5, corrected p: 0.0004\n",
      "Mod vs. Hab - t-stat: 3.4, corrected p: 0.0170\n"
     ]
    }
   ],
   "source": [
    "# Stats for probability of distraction across days\n",
    "def mean_and_sem(data):\n",
    "    print(f\"Mean: {np.mean(data)}, SEM: {np.std(data)/(np.sqrt(np.size(data)))}\")\n",
    "\n",
    "def bonferroni_corrected_ttest(data1, data2, comps=3, string_prefix=\"\"):\n",
    "    t, p = stats.ttest_rel(data1, data2)\n",
    "    print(f\"{string_prefix}t-stat: {np.abs(t):03.1f}, corrected p: {p*comps:03.4f}\")\n",
    "\n",
    "with open(statsfolder+'percent_distracted.csv', 'w', newline='') as csvfile:\n",
    "    writer = csv.writer(csvfile, delimiter=',')\n",
    "    for m, d, h in zip(probdisMod, probdisDis, probdisHab):\n",
    "        writer.writerow([m, d, h])\n",
    "\n",
    "# One-way ANOVA conducted in SPSS with this csv file\n",
    "\n",
    "# these lines print mean and SEM for reporting and calculate Bonferroni posthocs\n",
    "for data in [probdisMod, probdisDis, probdisHab]:\n",
    "    mean_and_sem(data)\n",
    "    \n",
    "bonferroni_corrected_ttest(probdisMod, probdisDis, string_prefix=\"Mod vs. Dis - \")\n",
    "bonferroni_corrected_ttest(probdisDis, probdisHab, string_prefix=\"Dis vs. Hab - \")\n",
    "bonferroni_corrected_ttest(probdisMod, probdisHab, string_prefix=\"Mod vs. Hab - \")"
   ]
  },
  {
   "cell_type": "code",
   "execution_count": 16,
   "metadata": {},
   "outputs": [],
   "source": [
    "# function for rasters\n",
    "\n",
    "def distractionrasterFig(ax, timelock, events,\n",
    "                         pre = 1, post = 1,\n",
    "                         sortevents=None, sortdirection='ascending',\n",
    "                         title=''):\n",
    "\n",
    "    if sortevents != None:\n",
    "        if len(timelock) != len(sortevents):\n",
    "            print('Length of sort events does not match timelock events; no sorting')\n",
    "\n",
    "        if len(timelock) == (len(sortevents) + 1):\n",
    "            sortevents.append(0)\n",
    "            \n",
    "            if sortdirection == 'ascending':\n",
    "                sortOrder = np.argsort(sortevents)\n",
    "            else:\n",
    "                sortOrder = np.argsort(sortevents)[::-1]\n",
    "                \n",
    "            timelock = [timelock[i] for i in sortOrder]    \n",
    "        else:\n",
    "            if sortdirection == 'ascending':\n",
    "                sortOrder = np.argsort(sortevents)\n",
    "            else:\n",
    "                sortOrder = np.argsort(sortevents)[::-1]\n",
    "                \n",
    "            timelock = [timelock[i] for i in sortOrder]\n",
    "    \n",
    "    rasterData = [[] for i in timelock]\n",
    "    \n",
    "    for i,x in enumerate(timelock):\n",
    "        rasterData[i] = [j-x for j in events if (j > x-pre) & (j < x+post)]\n",
    " \n",
    "    for ith, trial in enumerate(rasterData):\n",
    "\n",
    "        xvals = [x for x in trial] \n",
    "        yvals = [1+ith] * len(xvals)\n",
    "        \n",
    "        pdplist = [lick for lick in xvals if lick > 0 and lick < 1]\n",
    "        if len(pdplist) > 0:\n",
    "            ax.scatter(xvals, yvals, marker='|', s=1, linewidths=0.5, color='k')\n",
    "        else:\n",
    "            ax.scatter(xvals, yvals, marker='|', s=1, color='xkcd:light blue')\n",
    "    \n",
    "    ax.set_title(title)"
   ]
  },
  {
   "cell_type": "code",
   "execution_count": 17,
   "metadata": {},
   "outputs": [],
   "source": [
    "# makes scalebars for rasters and sets up axes\n",
    "\n",
    "def scalebar4raster(ax, length=1, offset=1, ypos=0):\n",
    "    \n",
    "    # Turns off bottom axis and x ticks\n",
    "    ax.spines['bottom'].set_visible(False)\n",
    "    ax.set_xticks([])\n",
    "    \n",
    "    # Gets x coordinates for scale bar\n",
    "    xmin=ax.get_xlim()[0]\n",
    "    x0=xmin+offset\n",
    "    x1=xmin+offset+length\n",
    "    \n",
    "    # Sets up a transform for x in data coords and y in axis coords\n",
    "    trans = transforms.blended_transform_factory(\n",
    "    ax.transData, ax.transAxes)\n",
    "\n",
    "    # Plots line using x and y and transform\n",
    "    line = mpl.lines.Line2D([x0, x1], [ypos, ypos], lw=2., color='k', transform=trans)\n",
    "    line.set_clip_on(False)\n",
    "    ax.add_line(line)\n",
    "    \n",
    "    # Adds text below line\n",
    "    ax.text((x1-length/2), ypos-0.02, '{} s'.format(length), va='top', ha='center', transform=trans)\n",
    "    \n",
    "    # Adds triangle to show distractor\n",
    "    ax.plot(0, 1., marker=\"v\", markersize=6, color='grey', clip_on=False, transform=trans)"
   ]
  },
  {
   "cell_type": "code",
   "execution_count": 18,
   "metadata": {},
   "outputs": [
    {
     "data": {
      "image/png": "[encoded data removed]",
      "text/plain": [
       "<Figure size 504x144 with 3 Axes>"
      ]
     },
     "metadata": {
      "needs_background": "light"
     },
     "output_type": "display_data"
    }
   ],
   "source": [
    "# makes raster plots for each day, change rat to see different rats and set savefig to True to save\n",
    "\n",
    "rat='thph1.4'\n",
    "savefig=True\n",
    "\n",
    "f, ax = plt.subplots(ncols=3, figsize=(7,2))\n",
    "f.subplots_adjust(left=0.1)\n",
    "\n",
    "d=modDict[rat]\n",
    "rasterPlot = distractionrasterFig(ax[0],\n",
    "                                  d['distractors'],\n",
    "                                  d['licks'],\n",
    "                                  pre=5, post=10, sortevents=d['pdp'], sortdirection='dec',\n",
    "                                  title='Modelled')\n",
    "\n",
    "d=disDict[rat]\n",
    "rasterPlot = distractionrasterFig(ax[1],\n",
    "                                  d['distractors'],\n",
    "                                  d['licks'],\n",
    "                                  pre=5, post=10, sortevents=d['pdp'], sortdirection='dec',\n",
    "                                  title='Distraction')\n",
    "\n",
    "d=habDict[rat]\n",
    "rasterPlot = distractionrasterFig(ax[2],\n",
    "                                  d['distractors'],\n",
    "                                  d['licks'],\n",
    "                                  pre=5, post=10, sortevents=d['pdp'], sortdirection='dec',\n",
    "                                  title='Habituation')\n",
    "\n",
    "ax[0].set_ylabel('Sorted trials')\n",
    "\n",
    "for axis in ax:\n",
    "    #axis.set_xlabel('Time from distractor (s)')\n",
    "    axis.spines['right'].set_visible(False)\n",
    "    axis.spines['top'].set_visible(False)\n",
    "    scalebar4raster(axis)\n",
    "\n",
    "if savefig:\n",
    "    f.savefig(figfolder+\"fig1_raster plots.pdf\")"
   ]
  },
  {
   "cell_type": "code",
   "execution_count": 8,
   "metadata": {},
   "outputs": [],
   "source": [
    "# makes lists of PDPs (post-distraction pause) - can ccomment out a line to give raw PDPs rather than log PDPs\n",
    "\n",
    "pdpsMod, pdpsDis, pdpsHab = [], [], []\n",
    "pdpsMod_all, pdpsDis_all, pdpsHab_all = [], [], []\n",
    "for day, output, output_all in zip([modDict, disDict, habDict],\n",
    "                                  [pdpsMod, pdpsDis, pdpsHab],\n",
    "                                  [pdpsMod_all, pdpsDis_all, pdpsHab_all]):\n",
    "    rats = day.keys()\n",
    "    for rat in rats:\n",
    "        d = day[rat]\n",
    "        \n",
    "        # raw PDPs\n",
    "        pdps = d['pdp']\n",
    "        \n",
    "        # log PDPs - comment out for raw PDPs\n",
    "        pdps = np.log10(d['pdp'])\n",
    "        \n",
    "        \n",
    "        output.append(np.mean(pdps))\n",
    "        output_all.append(pdps)"
   ]
  },
  {
   "cell_type": "code",
   "execution_count": 21,
   "metadata": {},
   "outputs": [
    {
     "name": "stdout",
     "output_type": "stream",
     "text": [
      "(-0.9749821261009044, 1.486913129975438)\n"
     ]
    },
    {
     "data": {
      "text/plain": [
       "(-1.1, 1.5)"
      ]
     },
     "execution_count": 21,
     "metadata": {},
     "output_type": "execute_result"
    },
    {
     "data": {
      "image/png": "[encoded data removed]",
      "text/plain": [
       "<Figure size 144x216 with 1 Axes>"
      ]
     },
     "metadata": {
      "needs_background": "light"
     },
     "output_type": "display_data"
    }
   ],
   "source": [
    "# plots panel for figure 1 showing PDPs\n",
    "\n",
    "f, ax = plt.subplots(figsize=(2,3))\n",
    "f.subplots_adjust(left=0.4)\n",
    "tp.barscatter([pdpsMod, pdpsDis, pdpsHab], paired=True,\n",
    "           barfacecolor=colors, barfacecoloroption='individual',\n",
    "           barlabels=['Mod', 'Dis', 'Hab'],\n",
    "           barlabeloffset=0.35,\n",
    "           scattersize=scattersize,\n",
    "#           barbaseline=-1.1,\n",
    "           ax=ax)\n",
    "\n",
    "ax.set_ylabel('Post-distraction pause (s)')\n",
    "ax.set_xticks([])\n",
    "print(ax.get_ylim())\n",
    "# ax.spines['bottom'].set_visible(False)\n",
    "# ax.plot(ax.get_xlim(), [-1.1, -1.1])\n",
    "\n",
    "ax.set_yticks([-1, 0, 1, 2])\n",
    "ax.set_yticklabels(['0.1', '1', '10', '100'])\n",
    "ax.set_ylim([-1.1, 1.5])\n",
    "\n",
    "# f.savefig(figfolder+\"fig1_pdps.pdf\")"
   ]
  },
  {
   "cell_type": "code",
   "execution_count": 22,
   "metadata": {},
   "outputs": [
    {
     "data": {
      "image/png": "[encoded data removed]",
      "text/plain": [
       "<Figure size 144x216 with 1 Axes>"
      ]
     },
     "metadata": {
      "needs_background": "light"
     },
     "output_type": "display_data"
    }
   ],
   "source": [
    "# plots panel for figure 1 showing PDPs - with baseline at 0\n",
    "\n",
    "pdps_adj = []\n",
    "for p_in in [pdpsMod, pdpsDis, pdpsHab]:\n",
    "    p_out = [pdp +1 for pdp in p_in]\n",
    "    pdps_adj.append(p_out)\n",
    "\n",
    "f, ax = plt.subplots(figsize=(2,3))\n",
    "f.subplots_adjust(left=0.4)\n",
    "tp.barscatter(pdps_adj, paired=True,\n",
    "           barfacecolor=colors, barfacecoloroption='individual',\n",
    "           barlabels=['Mod', 'Dis', 'Hab'],\n",
    "           barlabeloffset=-0.04,\n",
    "           scattersize=scattersize,\n",
    "#           barbaseline=-1.1,\n",
    "           ax=ax)\n",
    "\n",
    "ax.set_ylabel('Post-distractor pause (s)')\n",
    "ax.set_xticks([])\n",
    "# ax.spines['bottom'].set_visible(False)\n",
    "# ax.plot(ax.get_xlim(), [-1.1, -1.1])\n",
    "\n",
    "ax.set_yticks([0, 1, 2, 3])\n",
    "ax.set_yticklabels(['0.1', '1', '10', '100'])\n",
    "ax.set_ylim([-0.24, 2.6])\n",
    "\n",
    "f.savefig(figfolder+\"fig1_pdps_adjBL.pdf\")"
   ]
  },
  {
   "cell_type": "code",
   "execution_count": 23,
   "metadata": {},
   "outputs": [
    {
     "name": "stdout",
     "output_type": "stream",
     "text": [
      "Mean: -0.7467827540034992, SEM: 0.030228347249829764\n",
      "Mean: 0.13144915966881537, SEM: 0.1435405525481379\n",
      "Mean: -0.2538688896811673, SEM: 0.14487316625592184\n",
      "Mod vs. Dis - t-stat: 5.8, corrected p: 0.0002\n",
      "Dis vs. Hab - t-stat: 4.9, corrected p: 0.0010\n",
      "Mod vs. Hab - t-stat: 3.3, corrected p: 0.0177\n"
     ]
    }
   ],
   "source": [
    "# stats for PDPs - ANOVA conducted in SPSS with .csv file\n",
    "\n",
    "with open(statsfolder+'log_pdp.csv', 'w', newline='') as csvfile:\n",
    "    writer = csv.writer(csvfile, delimiter=',')\n",
    "    for m, d, h in zip(pdpsMod, pdpsDis, pdpsHab):\n",
    "        writer.writerow([m, d, h])\n",
    "        \n",
    "# One-way ANOVA conducted in SPSS with this csv file\n",
    "\n",
    "# these lines print mean and SEM for reporting and calculate Bonferroni posthocs\n",
    "for data in [pdpsMod, pdpsDis, pdpsHab]:\n",
    "    mean_and_sem(data)\n",
    "    \n",
    "bonferroni_corrected_ttest(pdpsMod, pdpsDis, string_prefix=\"Mod vs. Dis - \")\n",
    "bonferroni_corrected_ttest(pdpsDis, pdpsHab, string_prefix=\"Dis vs. Hab - \")\n",
    "bonferroni_corrected_ttest(pdpsMod, pdpsHab, string_prefix=\"Mod vs. Hab - \")"
   ]
  },
  {
   "cell_type": "code",
   "execution_count": 31,
   "metadata": {},
   "outputs": [
    {
     "data": {
      "image/png": "[encoded data removed]",
      "text/plain": [
       "<Figure size 187.2x151.2 with 1 Axes>"
      ]
     },
     "metadata": {
      "needs_background": "light"
     },
     "output_type": "display_data"
    }
   ],
   "source": [
    "# plots panel with cumulative PDPs for Fig 1\n",
    "\n",
    "def plot_cumulative_pdps(ax, pdps, bins, plot_all_data=True, color='k'):\n",
    "    \n",
    "    cumulative_sum = []\n",
    "    for data in pdps:\n",
    "        binned_data, _ = np.histogram(data, bins=bins, density=True)\n",
    "        binned_data = np.divide(binned_data, 10) # divides to get probability from 0 to 1 (because bins are only 0.1s)\n",
    "        cumsum_data = np.cumsum(binned_data)\n",
    "        cumulative_sum.append(cumsum_data)\n",
    "        if plot_all_data:\n",
    "            ax.plot(bins[:-1], cumsum_data, color=color, alpha=0.1)\n",
    "            \n",
    "    ax.plot(bins[:-1], np.mean(cumulative_sum, axis=0), color=color)\n",
    "    \n",
    "#     shadedError(ax, cumulative_sum, linecolor=color)\n",
    "\n",
    "    ax.set_xlim([-1.5, 2.3])\n",
    "    ax.set_xticks([-1, 0, 1, 2])\n",
    "    ax.set_xticklabels(['0.1', '1', '10', '100'])\n",
    "    ax.set_xlabel('Post-distractor pause (s)')\n",
    "    \n",
    "    ax.set_ylabel('Probability')\n",
    "    ax.set_yticks([0, 1])\n",
    "    ax.set_yticklabels(['0', '1'])\n",
    "    \n",
    "    ax.spines['top'].set_visible(False)\n",
    "    ax.spines['right'].set_visible(False)\n",
    "        \n",
    "\n",
    "colors = ['darkturquoise','dodgerblue', 'darkblue'] \n",
    "bins = np.arange(-2.1, 3.1, 0.1)\n",
    "\n",
    "f, ax = plt.subplots(figsize=(2.6, 2.1))\n",
    "f.subplots_adjust(left=0.15, bottom=0.2, right=0.95, top=0.93)\n",
    "\n",
    "plot_cumulative_pdps(ax, pdpsMod_all, bins, color=colors[0])\n",
    "plot_cumulative_pdps(ax, pdpsDis_all, bins, color=colors[1])\n",
    "plot_cumulative_pdps(ax, pdpsHab_all, bins, color=colors[2])\n",
    "\n",
    "ax.text(1, 0.4, 'Modelled', transform=ax.transAxes, ha='right', color=colors[0])\n",
    "ax.text(1, 0.3, 'Distraction', transform=ax.transAxes, ha='right', color=colors[1])\n",
    "ax.text(1, 0.2, 'Habituation', transform=ax.transAxes, ha='right', color=colors[2])\n",
    "\n",
    "ax.axvline(0, color='grey', linewidth=0.75, alpha=0.75, linestyle='dashed', zorder=-20)\n",
    "\n",
    "ax.text(-0.08, 1.1, 'not distracted', fontsize=8, ha='right')\n",
    "ax.text(0.1, 1.1, 'distracted', fontsize=8, ha='left')\n",
    "        \n",
    "f.savefig(figfolder+\"fig1_cumulative_pdps.pdf\")\n"
   ]
  },
  {
   "cell_type": "code",
   "execution_count": 8,
   "metadata": {},
   "outputs": [],
   "source": [
    "\n"
   ]
  },
  {
   "cell_type": "code",
   "execution_count": 11,
   "metadata": {},
   "outputs": [
    {
     "name": "stderr",
     "output_type": "stream",
     "text": [
      "C:\\ProgramData\\Anaconda3\\envs\\dis\\lib\\site-packages\\scipy\\stats\\stats.py:3233: RuntimeWarning: invalid value encountered in true_divide\n",
      "  msb = ssbn / dfbn\n"
     ]
    },
    {
     "data": {
      "text/plain": [
       "F_onewayResult(statistic=array([nan, nan, nan, nan, nan, nan, nan, nan, nan]), pvalue=array([nan, nan, nan, nan, nan, nan, nan, nan, nan]))"
      ]
     },
     "execution_count": 11,
     "metadata": {},
     "output_type": "execute_result"
    },
    {
     "data": {
      "image/png": "[encoded data removed]",
      "text/plain": [
       "<Figure size 288x288 with 1 Axes>"
      ]
     },
     "metadata": {
      "needs_background": "light"
     },
     "output_type": "display_data"
    }
   ],
   "source": []
  },
  {
   "cell_type": "code",
   "execution_count": 13,
   "metadata": {},
   "outputs": [],
   "source": []
  },
  {
   "cell_type": "code",
   "execution_count": 14,
   "metadata": {
    "scrolled": true
   },
   "outputs": [
    {
     "data": {
      "text/plain": [
       "[[0.5925925925925926, 0.39285714285714285, 0.5185185185185185],\n",
       " [0.92, 0.76, 0.76],\n",
       " [0.6666666666666666, 1.0, 1.0],\n",
       " [0.65, 0.42857142857142855, 0.2],\n",
       " [0.41935483870967744, 0.16666666666666666, 0.0967741935483871],\n",
       " [0.25, 0.0, 0.3333333333333333],\n",
       " [0.9473684210526315, 0.7368421052631579, 0.6842105263157895],\n",
       " [0.125, 0.04, 0.16666666666666666],\n",
       " [0.8181818181818182, 0.6190476190476191, 0.4090909090909091],\n",
       " [0.3333333333333333, 0.23076923076923078, 0.16666666666666666],\n",
       " [0.5, 0.6153846153846154, 0.6428571428571429],\n",
       " [0.8333333333333334, 0.5555555555555556, 0.4444444444444444],\n",
       " [0.625, 0.25, 0.0]]"
      ]
     },
     "execution_count": 14,
     "metadata": {},
     "output_type": "execute_result"
    }
   ],
   "source": []
  },
  {
   "cell_type": "code",
   "execution_count": 16,
   "metadata": {},
   "outputs": [],
   "source": []
  },
  {
   "cell_type": "code",
   "execution_count": 17,
   "metadata": {
    "scrolled": true
   },
   "outputs": [
    {
     "data": {
      "text/html": [
       "<div>\n",
       "<style scoped>\n",
       "    .dataframe tbody tr th:only-of-type {\n",
       "        vertical-align: middle;\n",
       "    }\n",
       "\n",
       "    .dataframe tbody tr th {\n",
       "        vertical-align: top;\n",
       "    }\n",
       "\n",
       "    .dataframe thead th {\n",
       "        text-align: right;\n",
       "    }\n",
       "</style>\n",
       "<table border=\"1\" class=\"dataframe\">\n",
       "  <thead>\n",
       "    <tr style=\"text-align: right;\">\n",
       "      <th></th>\n",
       "      <th>0</th>\n",
       "      <th>1</th>\n",
       "      <th>2</th>\n",
       "    </tr>\n",
       "  </thead>\n",
       "  <tbody>\n",
       "    <tr>\n",
       "      <th>0</th>\n",
       "      <td>0.592593</td>\n",
       "      <td>0.392857</td>\n",
       "      <td>0.518519</td>\n",
       "    </tr>\n",
       "    <tr>\n",
       "      <th>1</th>\n",
       "      <td>0.920000</td>\n",
       "      <td>0.760000</td>\n",
       "      <td>0.760000</td>\n",
       "    </tr>\n",
       "    <tr>\n",
       "      <th>2</th>\n",
       "      <td>0.666667</td>\n",
       "      <td>1.000000</td>\n",
       "      <td>1.000000</td>\n",
       "    </tr>\n",
       "    <tr>\n",
       "      <th>3</th>\n",
       "      <td>0.650000</td>\n",
       "      <td>0.428571</td>\n",
       "      <td>0.200000</td>\n",
       "    </tr>\n",
       "    <tr>\n",
       "      <th>4</th>\n",
       "      <td>0.419355</td>\n",
       "      <td>0.166667</td>\n",
       "      <td>0.096774</td>\n",
       "    </tr>\n",
       "    <tr>\n",
       "      <th>5</th>\n",
       "      <td>0.250000</td>\n",
       "      <td>0.000000</td>\n",
       "      <td>0.333333</td>\n",
       "    </tr>\n",
       "    <tr>\n",
       "      <th>6</th>\n",
       "      <td>0.947368</td>\n",
       "      <td>0.736842</td>\n",
       "      <td>0.684211</td>\n",
       "    </tr>\n",
       "    <tr>\n",
       "      <th>7</th>\n",
       "      <td>0.125000</td>\n",
       "      <td>0.040000</td>\n",
       "      <td>0.166667</td>\n",
       "    </tr>\n",
       "    <tr>\n",
       "      <th>8</th>\n",
       "      <td>0.818182</td>\n",
       "      <td>0.619048</td>\n",
       "      <td>0.409091</td>\n",
       "    </tr>\n",
       "    <tr>\n",
       "      <th>9</th>\n",
       "      <td>0.333333</td>\n",
       "      <td>0.230769</td>\n",
       "      <td>0.166667</td>\n",
       "    </tr>\n",
       "    <tr>\n",
       "      <th>10</th>\n",
       "      <td>0.500000</td>\n",
       "      <td>0.615385</td>\n",
       "      <td>0.642857</td>\n",
       "    </tr>\n",
       "    <tr>\n",
       "      <th>11</th>\n",
       "      <td>0.833333</td>\n",
       "      <td>0.555556</td>\n",
       "      <td>0.444444</td>\n",
       "    </tr>\n",
       "    <tr>\n",
       "      <th>12</th>\n",
       "      <td>0.625000</td>\n",
       "      <td>0.250000</td>\n",
       "      <td>0.000000</td>\n",
       "    </tr>\n",
       "  </tbody>\n",
       "</table>\n",
       "</div>"
      ],
      "text/plain": [
       "           0         1         2\n",
       "0   0.592593  0.392857  0.518519\n",
       "1   0.920000  0.760000  0.760000\n",
       "2   0.666667  1.000000  1.000000\n",
       "3   0.650000  0.428571  0.200000\n",
       "4   0.419355  0.166667  0.096774\n",
       "5   0.250000  0.000000  0.333333\n",
       "6   0.947368  0.736842  0.684211\n",
       "7   0.125000  0.040000  0.166667\n",
       "8   0.818182  0.619048  0.409091\n",
       "9   0.333333  0.230769  0.166667\n",
       "10  0.500000  0.615385  0.642857\n",
       "11  0.833333  0.555556  0.444444\n",
       "12  0.625000  0.250000  0.000000"
      ]
     },
     "execution_count": 17,
     "metadata": {},
     "output_type": "execute_result"
    }
   ],
   "source": [
    "df"
   ]
  },
  {
   "cell_type": "code",
   "execution_count": 18,
   "metadata": {},
   "outputs": [],
   "source": [
    "df = pd.DataFrame(all_tercile_probs)"
   ]
  },
  {
   "cell_type": "code",
   "execution_count": 19,
   "metadata": {},
   "outputs": [
    {
     "data": {
      "text/html": [
       "<div>\n",
       "<style scoped>\n",
       "    .dataframe tbody tr th:only-of-type {\n",
       "        vertical-align: middle;\n",
       "    }\n",
       "\n",
       "    .dataframe tbody tr th {\n",
       "        vertical-align: top;\n",
       "    }\n",
       "\n",
       "    .dataframe thead th {\n",
       "        text-align: right;\n",
       "    }\n",
       "</style>\n",
       "<table border=\"1\" class=\"dataframe\">\n",
       "  <thead>\n",
       "    <tr style=\"text-align: right;\">\n",
       "      <th></th>\n",
       "      <th>0</th>\n",
       "      <th>1</th>\n",
       "      <th>2</th>\n",
       "      <th>3</th>\n",
       "      <th>4</th>\n",
       "      <th>5</th>\n",
       "      <th>6</th>\n",
       "      <th>7</th>\n",
       "      <th>8</th>\n",
       "    </tr>\n",
       "  </thead>\n",
       "  <tbody>\n",
       "    <tr>\n",
       "      <th>0</th>\n",
       "      <td>0.000000</td>\n",
       "      <td>0.000000</td>\n",
       "      <td>0.000000</td>\n",
       "      <td>0.592593</td>\n",
       "      <td>0.392857</td>\n",
       "      <td>0.518519</td>\n",
       "      <td>0.100000</td>\n",
       "      <td>0.272727</td>\n",
       "      <td>0.100000</td>\n",
       "    </tr>\n",
       "    <tr>\n",
       "      <th>1</th>\n",
       "      <td>0.000000</td>\n",
       "      <td>0.000000</td>\n",
       "      <td>0.000000</td>\n",
       "      <td>0.920000</td>\n",
       "      <td>0.760000</td>\n",
       "      <td>0.760000</td>\n",
       "      <td>0.333333</td>\n",
       "      <td>0.416667</td>\n",
       "      <td>0.500000</td>\n",
       "    </tr>\n",
       "    <tr>\n",
       "      <th>2</th>\n",
       "      <td>0.083333</td>\n",
       "      <td>0.166667</td>\n",
       "      <td>0.000000</td>\n",
       "      <td>0.666667</td>\n",
       "      <td>1.000000</td>\n",
       "      <td>1.000000</td>\n",
       "      <td>0.750000</td>\n",
       "      <td>1.000000</td>\n",
       "      <td>1.000000</td>\n",
       "    </tr>\n",
       "    <tr>\n",
       "      <th>3</th>\n",
       "      <td>0.055556</td>\n",
       "      <td>0.111111</td>\n",
       "      <td>0.166667</td>\n",
       "      <td>0.650000</td>\n",
       "      <td>0.428571</td>\n",
       "      <td>0.200000</td>\n",
       "      <td>0.266667</td>\n",
       "      <td>0.142857</td>\n",
       "      <td>0.133333</td>\n",
       "    </tr>\n",
       "    <tr>\n",
       "      <th>4</th>\n",
       "      <td>0.000000</td>\n",
       "      <td>0.022727</td>\n",
       "      <td>0.066667</td>\n",
       "      <td>0.419355</td>\n",
       "      <td>0.166667</td>\n",
       "      <td>0.096774</td>\n",
       "      <td>0.071429</td>\n",
       "      <td>0.071429</td>\n",
       "      <td>0.035714</td>\n",
       "    </tr>\n",
       "    <tr>\n",
       "      <th>5</th>\n",
       "      <td>0.000000</td>\n",
       "      <td>0.000000</td>\n",
       "      <td>0.125000</td>\n",
       "      <td>0.250000</td>\n",
       "      <td>0.000000</td>\n",
       "      <td>0.333333</td>\n",
       "      <td>0.000000</td>\n",
       "      <td>0.000000</td>\n",
       "      <td>0.250000</td>\n",
       "    </tr>\n",
       "    <tr>\n",
       "      <th>6</th>\n",
       "      <td>0.000000</td>\n",
       "      <td>0.000000</td>\n",
       "      <td>0.266667</td>\n",
       "      <td>0.947368</td>\n",
       "      <td>0.736842</td>\n",
       "      <td>0.684211</td>\n",
       "      <td>0.461538</td>\n",
       "      <td>0.307692</td>\n",
       "      <td>0.153846</td>\n",
       "    </tr>\n",
       "    <tr>\n",
       "      <th>7</th>\n",
       "      <td>0.000000</td>\n",
       "      <td>0.000000</td>\n",
       "      <td>0.041667</td>\n",
       "      <td>0.125000</td>\n",
       "      <td>0.040000</td>\n",
       "      <td>0.166667</td>\n",
       "      <td>0.000000</td>\n",
       "      <td>0.000000</td>\n",
       "      <td>0.033333</td>\n",
       "    </tr>\n",
       "    <tr>\n",
       "      <th>8</th>\n",
       "      <td>0.000000</td>\n",
       "      <td>0.000000</td>\n",
       "      <td>0.000000</td>\n",
       "      <td>0.818182</td>\n",
       "      <td>0.619048</td>\n",
       "      <td>0.409091</td>\n",
       "      <td>0.153846</td>\n",
       "      <td>0.333333</td>\n",
       "      <td>0.076923</td>\n",
       "    </tr>\n",
       "    <tr>\n",
       "      <th>9</th>\n",
       "      <td>0.050000</td>\n",
       "      <td>0.047619</td>\n",
       "      <td>0.050000</td>\n",
       "      <td>0.333333</td>\n",
       "      <td>0.230769</td>\n",
       "      <td>0.166667</td>\n",
       "      <td>0.200000</td>\n",
       "      <td>0.181818</td>\n",
       "      <td>0.200000</td>\n",
       "    </tr>\n",
       "    <tr>\n",
       "      <th>10</th>\n",
       "      <td>0.000000</td>\n",
       "      <td>0.100000</td>\n",
       "      <td>0.000000</td>\n",
       "      <td>0.500000</td>\n",
       "      <td>0.615385</td>\n",
       "      <td>0.642857</td>\n",
       "      <td>0.500000</td>\n",
       "      <td>0.000000</td>\n",
       "      <td>0.333333</td>\n",
       "    </tr>\n",
       "    <tr>\n",
       "      <th>11</th>\n",
       "      <td>0.000000</td>\n",
       "      <td>0.000000</td>\n",
       "      <td>0.000000</td>\n",
       "      <td>0.833333</td>\n",
       "      <td>0.555556</td>\n",
       "      <td>0.444444</td>\n",
       "      <td>0.250000</td>\n",
       "      <td>0.250000</td>\n",
       "      <td>0.083333</td>\n",
       "    </tr>\n",
       "    <tr>\n",
       "      <th>12</th>\n",
       "      <td>0.000000</td>\n",
       "      <td>0.000000</td>\n",
       "      <td>0.040000</td>\n",
       "      <td>0.625000</td>\n",
       "      <td>0.250000</td>\n",
       "      <td>0.000000</td>\n",
       "      <td>0.176471</td>\n",
       "      <td>0.058824</td>\n",
       "      <td>0.117647</td>\n",
       "    </tr>\n",
       "  </tbody>\n",
       "</table>\n",
       "</div>"
      ],
      "text/plain": [
       "           0         1         2         3         4         5         6  \\\n",
       "0   0.000000  0.000000  0.000000  0.592593  0.392857  0.518519  0.100000   \n",
       "1   0.000000  0.000000  0.000000  0.920000  0.760000  0.760000  0.333333   \n",
       "2   0.083333  0.166667  0.000000  0.666667  1.000000  1.000000  0.750000   \n",
       "3   0.055556  0.111111  0.166667  0.650000  0.428571  0.200000  0.266667   \n",
       "4   0.000000  0.022727  0.066667  0.419355  0.166667  0.096774  0.071429   \n",
       "5   0.000000  0.000000  0.125000  0.250000  0.000000  0.333333  0.000000   \n",
       "6   0.000000  0.000000  0.266667  0.947368  0.736842  0.684211  0.461538   \n",
       "7   0.000000  0.000000  0.041667  0.125000  0.040000  0.166667  0.000000   \n",
       "8   0.000000  0.000000  0.000000  0.818182  0.619048  0.409091  0.153846   \n",
       "9   0.050000  0.047619  0.050000  0.333333  0.230769  0.166667  0.200000   \n",
       "10  0.000000  0.100000  0.000000  0.500000  0.615385  0.642857  0.500000   \n",
       "11  0.000000  0.000000  0.000000  0.833333  0.555556  0.444444  0.250000   \n",
       "12  0.000000  0.000000  0.040000  0.625000  0.250000  0.000000  0.176471   \n",
       "\n",
       "           7         8  \n",
       "0   0.272727  0.100000  \n",
       "1   0.416667  0.500000  \n",
       "2   1.000000  1.000000  \n",
       "3   0.142857  0.133333  \n",
       "4   0.071429  0.035714  \n",
       "5   0.000000  0.250000  \n",
       "6   0.307692  0.153846  \n",
       "7   0.000000  0.033333  \n",
       "8   0.333333  0.076923  \n",
       "9   0.181818  0.200000  \n",
       "10  0.000000  0.333333  \n",
       "11  0.250000  0.083333  \n",
       "12  0.058824  0.117647  "
      ]
     },
     "execution_count": 19,
     "metadata": {},
     "output_type": "execute_result"
    }
   ],
   "source": [
    "df"
   ]
  },
  {
   "cell_type": "code",
   "execution_count": null,
   "metadata": {},
   "outputs": [],
   "source": []
  }
 ],
 "metadata": {
  "kernelspec": {
   "display_name": "Python 3",
   "language": "python",
   "name": "python3"
  },
  "language_info": {
   "codemirror_mode": {
    "name": "ipython",
    "version": 3
   },
   "file_extension": ".py",
   "mimetype": "text/x-python",
   "name": "python",
   "nbconvert_exporter": "python",
   "pygments_lexer": "ipython3",
   "version": "3.7.6"
  }
 },
 "nbformat": 4,
 "nbformat_minor": 4
}
