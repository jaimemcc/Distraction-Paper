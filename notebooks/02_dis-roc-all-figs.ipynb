{
 "cells": [
  {
   "cell_type": "markdown",
   "metadata": {},
   "source": [
    "### This notebook uses ROC data produced and saved by the script <i>analyze_roc_data.py</i> to make ROC and bar graphs for figs 2, 3, 4, and 5"
   ]
  },
  {
   "cell_type": "code",
   "execution_count": 53,
   "metadata": {},
   "outputs": [],
   "source": [
    "import dill\n",
    "import matplotlib.pyplot as plt\n",
    "import matplotlib as mpl\n",
    "import matplotlib.transforms as transforms\n",
    "from matplotlib.backends.backend_pdf import PdfPages\n",
    "\n",
    "import numpy as np\n",
    "import trompy as tp\n",
    "\n",
    "from scipy import stats\n",
    "import pandas as pd\n",
    "from statsmodels.stats.anova import AnovaRM\n",
    "\n",
    "%matplotlib inline"
   ]
  },
  {
   "cell_type": "code",
   "execution_count": 54,
   "metadata": {},
   "outputs": [],
   "source": [
    "# figure settings\n",
    "scattersize=50\n",
    "\n",
    "#colors for distracted vs not distracted\n",
    "colors_dis = ['grey', 'red']\n",
    "\n",
    "# colors for different days\n",
    "colors_days = ['darkturquoise','dodgerblue', 'darkblue']"
   ]
  },
  {
   "cell_type": "code",
   "execution_count": 55,
   "metadata": {},
   "outputs": [],
   "source": [
    "datafolder = \"C:\\\\Github\\\\Distraction-Paper\\\\data\\\\\"\n",
    "figfolder = \"C:\\\\Github\\\\Distraction-Paper\\\\figs\\\\\"\n",
    "outputfolder = \"C:\\\\Github\\\\Distraction-Paper\\\\output\\\\\"\n",
    "\n",
    "try:\n",
    "    pickle_in = open(datafolder + \"distraction_data_only_snips.pickle\", 'rb')\n",
    "except FileNotFoundError:\n",
    "        print('Cannot access pickled file')\n",
    "\n",
    "[modDict, disDict, habDict] = dill.load(pickle_in)"
   ]
  },
  {
   "cell_type": "code",
   "execution_count": 56,
   "metadata": {},
   "outputs": [
    {
     "data": {
      "text/plain": [
       "''"
      ]
     },
     "execution_count": 56,
     "metadata": {},
     "output_type": "execute_result"
    }
   ],
   "source": [
    "# thph2.8 removed from analysis because no data on habituation day\n",
    "\n",
    "modDict.pop('thph2.8')\n",
    "disDict.pop('thph2.8')\n",
    ";"
   ]
  },
  {
   "cell_type": "code",
   "execution_count": 57,
   "metadata": {},
   "outputs": [],
   "source": [
    "# loads in lick trials\n",
    "pickle_in = open(outputfolder+\"data4roc_licks.pickle\", 'rb')\n",
    "[mod_dis_hist, mod_notdis_hist, dis_dis_hist, dis_notdis_hist, hab_dis_hist, hab_notdis_hist] = dill.load(pickle_in)\n",
    "\n",
    "# loads in photo snips\n",
    "pickle_in = open(outputfolder+\"data4roc_photo.pickle\", 'rb')\n",
    "[mod_dis_photo_snips_flat, mod_notdis_photo_snips_flat, dis_dis_photo_snips_flat, dis_notdis_photo_snips_flat, dis_dis_filt_photo_snips_flat, dis_notdis_filt_photo_snips_flat, hab_dis_photo_snips_flat, hab_notdis_photo_snips_flat] = dill.load(pickle_in)\n"
   ]
  },
  {
   "cell_type": "markdown",
   "metadata": {},
   "source": [
    "## Analysis for Fig 2 - lick rate between distracted and not distracted trials"
   ]
  },
  {
   "cell_type": "code",
   "execution_count": 58,
   "metadata": {},
   "outputs": [
    {
     "data": {
      "image/png": "[encoded data removed]",
      "text/plain": [
       "<Figure size 244.8x144 with 3 Axes>"
      ]
     },
     "metadata": {
      "needs_background": "light"
     },
     "output_type": "display_data"
    }
   ],
   "source": [
    "# Loads in ROC data for modelled vs distraction day ROC\n",
    "try:\n",
    "    pickle_in = open(outputfolder+\"roc_licks_disday_disVnondis.pickle\", 'rb')\n",
    "except FileNotFoundError:\n",
    "        print('Cannot access pickled file')\n",
    "        \n",
    "[a, p, data] = dill.load(pickle_in)\n",
    "        \n",
    "f = plt.figure(figsize=(3.4,2))\n",
    "f, ax = tp.plot_ROC_and_line(f, a, p, data[0], data[1],\n",
    "                 cdict=[colors_dis[0], 'white', colors_dis[1]],\n",
    "                 colors = colors_dis,\n",
    "                 labels=['Not distracted', 'Distracted'],\n",
    "                 ylabel='Licks (Hz)')\n",
    "\n",
    "# ax[1].set_yticks([-1, 0, 1])\n",
    "\n",
    "ax[1].set_xlabel(\"Time from distractor (s)\")\n",
    "ax[1].set_xticks([0, 5, 10, 15])\n",
    "ax[1].set_xticklabels([\"-5\", \"0\", \"5\", \"10\", \"15\"])\n",
    "\n",
    "f.savefig(figfolder+\"fig2_roc-lickrate.pdf\")"
   ]
  },
  {
   "cell_type": "code",
   "execution_count": 59,
   "metadata": {},
   "outputs": [],
   "source": [
    "# find licks before and after distractor for all rats\n",
    "\n",
    "def check_val_between(data, x1=0.001, x2=1.000):\n",
    "    \"\"\" Checks if there is a value in a list between two numbers\"\"\"\n",
    "    \n",
    "    vals = [1 for d in data if d>x1 and d<x2]\n",
    "    \n",
    "    if sum(vals) > 0:\n",
    "        return True\n",
    "    else:\n",
    "        return False\n",
    "\n",
    "pickle_in = open(outputfolder+\"data4epochs_licks.pickle\", 'rb')\n",
    "[mod_lick_snips, dis_lick_snips, hab_lick_snips] = dill.load(pickle_in)\n",
    "\n",
    "pre_lickrate_dis, pre_lickrate_notdis = [], []\n",
    "post_lickrate_dis, post_lickrate_notdis = [], []\n",
    "\n",
    "for snips in dis_lick_snips:\n",
    "    \n",
    "    pre_dis, pre_notdis = [], []\n",
    "    post_dis, post_notdis = [], []\n",
    "    \n",
    "    for snip in snips:\n",
    "        \n",
    "        nlicks_before_distractor = len([lick for lick in snip if lick<-2])\n",
    "        nlicks_after_distractor = len([lick for lick in snip if lick>1])\n",
    "        \n",
    "        if check_val_between(snip):\n",
    "            pre_notdis.append(nlicks_before_distractor)\n",
    "            post_notdis.append(nlicks_after_distractor)\n",
    "        else:\n",
    "            pre_dis.append(nlicks_before_distractor)\n",
    "            post_dis.append(nlicks_after_distractor)\n",
    "\n",
    "    pre_lickrate_dis.append(np.mean(pre_dis)/10) # dividing by 10 puts this into Hz as a 10s predistractor period is used\n",
    "    pre_lickrate_notdis.append(np.mean(pre_notdis)/10)\n",
    "    \n",
    "    post_lickrate_dis.append(np.mean(post_dis)/10)\n",
    "    post_lickrate_notdis.append(np.mean(post_notdis)/10)"
   ]
  },
  {
   "cell_type": "code",
   "execution_count": 60,
   "metadata": {},
   "outputs": [
    {
     "name": "stdout",
     "output_type": "stream",
     "text": [
      "Pre distractor 2.307220313459323 0.03967546647845937\n",
      "Post distractor 7.06055533088144 1.3180323000523508e-05\n"
     ]
    },
    {
     "data": {
      "image/png": "[encoded data removed]",
      "text/plain": [
       "<Figure size 244.8x180 with 2 Axes>"
      ]
     },
     "metadata": {
      "needs_background": "light"
     },
     "output_type": "display_data"
    }
   ],
   "source": [
    "# plots panel for fig 2 showing bar graphs of pre and post lick rate and calculates stats\n",
    "\n",
    "f, ax = plt.subplots(figsize=(3.4,2.5), ncols=2)\n",
    "f.subplots_adjust(left=0.2, wspace=0.8)\n",
    "\n",
    "tp.barscatter([pre_lickrate_notdis, pre_lickrate_dis], paired=True,\n",
    "           barfacecolor=['xkcd:light grey', colors_dis[1]], barfacecoloroption='individual',\n",
    "           scattersize=scattersize,\n",
    "           ax=ax[0])\n",
    "\n",
    "tp.barscatter([post_lickrate_notdis, post_lickrate_dis], paired=True,\n",
    "           barfacecolor=['xkcd:light grey', colors_dis[1]], barfacecoloroption='individual',\n",
    "           scattersize=scattersize,\n",
    "           ax=ax[1])\n",
    "\n",
    "for axis in ax:\n",
    "    axis.set_xticks([1,2])\n",
    "    axis.set_xticklabels(['Not', 'Dis'])\n",
    "    \n",
    "ax[0].set_ylabel('Lick rate (Hz)')\n",
    "ax[0].set_yticks([0, 0.5, 1, 1.5])\n",
    "ax[0].set_ylim([-0.11, 1.1])\n",
    "ax[0].set_title('Pre')\n",
    "\n",
    "# ax[1].set_ylabel('Mean post-distractor lick rate (Hz)')\n",
    "ax[1].set_yticks([0, 5, 10])\n",
    "ax[1].set_ylim([-1, 10])\n",
    "ax[1].set_title('Post')\n",
    "\n",
    "f.savefig(figfolder+\"fig2_pre-and-post-distractor-lickrate.pdf\")\n",
    "\n",
    "from scipy import stats\n",
    "\n",
    "t, p = stats.ttest_rel(pre_lickrate_notdis, pre_lickrate_dis)\n",
    "print('Pre distractor', t, p)\n",
    "\n",
    "t, p = stats.ttest_rel(post_lickrate_notdis, post_lickrate_dis)\n",
    "print('Post distractor', t, p)"
   ]
  },
  {
   "cell_type": "markdown",
   "metadata": {},
   "source": [
    "## Analysis for Fig 3 - photometry comparison between modelled and distraction day"
   ]
  },
  {
   "cell_type": "code",
   "execution_count": 61,
   "metadata": {},
   "outputs": [
    {
     "data": {
      "image/png": "[encoded data removed]",
      "text/plain": [
       "<Figure size 244.8x144 with 3 Axes>"
      ]
     },
     "metadata": {
      "needs_background": "light"
     },
     "output_type": "display_data"
    }
   ],
   "source": [
    "# Loads in ROC data for modelled vs distraction day ROC\n",
    "\n",
    "pickle_in = open(outputfolder+\"roc_photo_alltrials_modVdis.pickle\", 'rb')\n",
    "       \n",
    "[a, p, data] = dill.load(pickle_in)\n",
    "        \n",
    "f = plt.figure(figsize=(3.4,2))\n",
    "f, ax = tp.plot_ROC_and_line(f, a, p, data[0], data[1],\n",
    "                 cdict = [(0, colors_days[0]), (0.25, colors_days[0]), (0.5, 'white'), (0.75, colors_days[1]), (1, colors_days[1])],\n",
    "                 colors = [colors_days[0], colors_days[1]],\n",
    "                 labels=['Modelled', 'Distraction'],\n",
    "                 ylabel='Z-score')\n",
    "\n",
    "# ax[1].set_yticks([-1, 0, 1])\n",
    "\n",
    "ax[1].set_xlabel(\"Time from distractor (s)\")\n",
    "ax[1].set_xticks([0, 5, 10, 15])\n",
    "ax[1].set_xticklabels([\"-5\", \"0\", \"5\", \"10\", \"15\"])\n",
    "\n",
    "f.savefig(figfolder+\"fig3_roc-photo-modVdis.pdf\")"
   ]
  },
  {
   "cell_type": "code",
   "execution_count": 62,
   "metadata": {},
   "outputs": [],
   "source": [
    "# Loads in data to make bar graphs and combines all trials (distracted and not distracted) as first comparison is modelled vs. distraction ALL trials\n",
    "\n",
    "pickle_in = open(outputfolder+\"data4epochs_photo.pickle\", 'rb')\n",
    "[ mod_dis_photo_snips, mod_notdis_photo_snips, dis_dis_photo_snips, dis_notdis_photo_snips, dis_dis_filt_photo_snips, dis_notdis_filt_photo_snips, hab_dis_photo_snips, hab_notdis_photo_snips] = dill.load(pickle_in)\n",
    "\n",
    "dis_all_photo_snips, mod_all_photo_snips, hab_all_photo_snips = [], [], []\n",
    "\n",
    "for dis, nondis in zip(mod_dis_photo_snips, mod_notdis_photo_snips):\n",
    "    mod_all_photo_snips.append(dis + nondis)\n",
    "    \n",
    "for dis, nondis in zip(dis_dis_photo_snips, dis_notdis_photo_snips):\n",
    "    dis_all_photo_snips.append(dis + nondis)\n",
    "    \n",
    "for dis, nondis in zip(hab_dis_photo_snips, hab_notdis_photo_snips):\n",
    "    hab_all_photo_snips.append(dis + nondis)\n"
   ]
  },
  {
   "cell_type": "code",
   "execution_count": 63,
   "metadata": {},
   "outputs": [],
   "source": [
    "# divides data into 3 separate epochs\n",
    "\n",
    "epoch1_mod, epoch1_dis = [], []\n",
    "epoch2_mod, epoch2_dis = [], []\n",
    "epoch3_mod, epoch3_dis = [], []\n",
    "\n",
    "for day, epoch1, epoch2, epoch3 in zip([mod_all_photo_snips, dis_all_photo_snips],\n",
    "                             [epoch1_mod, epoch1_dis],\n",
    "                              [epoch2_mod, epoch2_dis],\n",
    "                                      [epoch3_mod, epoch3_dis]):\n",
    "    for rat in day:\n",
    "        e1, e2, e3 = [], [], []\n",
    "        for snip in rat:\n",
    "            e1.append(np.mean(snip[0:5]))\n",
    "            e2.append(np.mean(snip[6:9]))\n",
    "            e3.append(np.mean(snip[9:]))\n",
    "        epoch1.append(np.mean(e1))\n",
    "        epoch2.append(np.mean(e2))\n",
    "        epoch3.append(np.mean(e3))"
   ]
  },
  {
   "cell_type": "code",
   "execution_count": 64,
   "metadata": {},
   "outputs": [
    {
     "data": {
      "image/png": "[encoded data removed]",
      "text/plain": [
       "<Figure size 288x144 with 3 Axes>"
      ]
     },
     "metadata": {
      "needs_background": "light"
     },
     "output_type": "display_data"
    }
   ],
   "source": [
    "f, ax = plt.subplots(figsize=(4,2), ncols=3)\n",
    "f.subplots_adjust(left=0.15, wspace=0.3)\n",
    "\n",
    "colors=[colors_days[0], colors_days[1]]\n",
    "\n",
    "tp.barscatter([epoch1_mod, epoch1_dis], paired=True,\n",
    "           barfacecolor=colors, barfacecoloroption='individual',\n",
    "           scattersize=scattersize,\n",
    "           ax=ax[0])\n",
    "\n",
    "tp.barscatter([epoch2_mod, epoch2_dis], paired=True,\n",
    "           barfacecolor=colors, barfacecoloroption='individual',\n",
    "           scattersize=scattersize,\n",
    "           ax=ax[1])\n",
    "\n",
    "tp.barscatter([epoch3_mod, epoch3_dis], paired=True,\n",
    "           barfacecolor=colors, barfacecoloroption='individual',\n",
    "           scattersize=scattersize,\n",
    "           ax=ax[2])\n",
    "\n",
    "for axis in ax:\n",
    "    axis.set_xticks([])\n",
    "    axis.set_ylim([-4, 3.5])\n",
    "    axis.set_yticks([-3, 0, 3])\n",
    "    axis.set_yticklabels([])\n",
    "    axis.text(1, -3.9, 'Mod', ha='center')\n",
    "    axis.text(2, -3.9, 'Dis', ha='center')\n",
    "    \n",
    "ax[0].set_ylabel('AUC (Z-score)')\n",
    "\n",
    "ax[0].set_yticklabels([\"-3\", '0', '3'])\n",
    "\n",
    "ax[0].set_title('Pre')\n",
    "ax[1].set_title('Dist.')\n",
    "ax[2].set_title('Post')\n",
    "\n",
    "f.savefig(figfolder+\"fig3_photo_modVdis_epochs.pdf\")"
   ]
  },
  {
   "cell_type": "code",
   "execution_count": 65,
   "metadata": {},
   "outputs": [
    {
     "name": "stdout",
     "output_type": "stream",
     "text": [
      "                  Anova\n",
      "==========================================\n",
      "             F Value Num DF  Den DF Pr > F\n",
      "------------------------------------------\n",
      "variable      3.0105 2.0000 24.0000 0.0681\n",
      "day           3.3725 1.0000 12.0000 0.0912\n",
      "variable:day 10.9642 2.0000 24.0000 0.0004\n",
      "==========================================\n",
      "\n",
      "Epoch 1 - pre 0.4437902564302567 0.6650905923021398 Sidak: 0.9624351169160664\n",
      "Epoch 2 - dis -3.0633974822528196 0.00983674509410371 Sidak: 0.029220902438914065\n",
      "Epoch 3 - post -0.10424863573716375 0.9186941607447985 Sidak: 0.9994625164076835\n"
     ]
    }
   ],
   "source": [
    "rats = disDict.keys()\n",
    "data = np.array([epoch1_mod, epoch2_mod, epoch3_mod], dtype=\"float\").T\n",
    "\n",
    "df = pd.DataFrame(data, columns=[\"e1\", \"e2\", \"e3\"], index=rats)\n",
    "df.insert(0, \"ratid\", rats)\n",
    "df1 = df.melt(id_vars = \"ratid\")\n",
    "df1.insert(1, \"day\", \"mod\")\n",
    "\n",
    "data = np.array([epoch1_dis, epoch2_dis, epoch3_dis], dtype=\"float\").T\n",
    "\n",
    "df = pd.DataFrame(data, columns=[\"e1\", \"e2\", \"e3\"], index=rats)\n",
    "df.insert(0, \"ratid\", rats)\n",
    "df2 = df.melt(id_vars = \"ratid\")\n",
    "df2.insert(1, \"day\", \"dis\")\n",
    "\n",
    "df3 = pd.concat([df1, df2])\n",
    "\n",
    "aovrm = AnovaRM(df3, \"value\", \"ratid\", within=[\"variable\", \"day\"])\n",
    "res = aovrm.fit()\n",
    "\n",
    "print(res)\n",
    "\n",
    "\n",
    "t, p = stats.ttest_rel(epoch1_mod, epoch1_dis)\n",
    "print('Epoch 1 - pre', t, p, \"Sidak:\", tp.sidakcorr(p))\n",
    "\n",
    "t, p = stats.ttest_rel(epoch2_mod, epoch2_dis)\n",
    "print('Epoch 2 - dis', t, p, \"Sidak:\", tp.sidakcorr(p))\n",
    "\n",
    "t, p = stats.ttest_rel(epoch3_mod, epoch3_dis)\n",
    "print('Epoch 3 - post', t, p, \"Sidak:\", tp.sidakcorr(p))"
   ]
  },
  {
   "cell_type": "markdown",
   "metadata": {},
   "source": [
    "## Analysis for Fig 4 - photometry comparison between distracted and not distracted trials (distraction day)"
   ]
  },
  {
   "cell_type": "code",
   "execution_count": 66,
   "metadata": {},
   "outputs": [
    {
     "data": {
      "image/png": "[encoded data removed]",
      "text/plain": [
       "<Figure size 244.8x144 with 3 Axes>"
      ]
     },
     "metadata": {
      "needs_background": "light"
     },
     "output_type": "display_data"
    }
   ],
   "source": [
    "# Loads in ROC data for modelled vs distraction day ROC\n",
    "try:\n",
    "    pickle_in = open(outputfolder+\"roc_photo_disday_disVnotdis.pickle\", 'rb')\n",
    "except FileNotFoundError:\n",
    "        print('Cannot access pickled file')\n",
    "        \n",
    "[a, p, data] = dill.load(pickle_in)\n",
    "        \n",
    "f = plt.figure(figsize=(3.4,2))\n",
    "f, ax = tp.plot_ROC_and_line(f, a, p, data[0], data[1],\n",
    "                 cdict=[colors_dis[0], 'white', colors_dis[1]],\n",
    "                 colors = colors_dis,\n",
    "                 labels=['Not distracted', 'Distracted'],\n",
    "                 ylabel='Z-score')\n",
    "\n",
    "ax[1].set_yticks([-1, 0, 1])\n",
    "\n",
    "ax[1].set_xlabel(\"Time from distractor (s)\")\n",
    "ax[1].set_xticks([0, 5, 10, 15])\n",
    "ax[1].set_xticklabels([\"-5\", \"0\", \"5\", \"10\", \"15\"])\n",
    "\n",
    "f.savefig(figfolder+\"fig4_roc-photo-disVnondis.pdf\")"
   ]
  },
  {
   "cell_type": "code",
   "execution_count": 67,
   "metadata": {},
   "outputs": [],
   "source": [
    "# organises data into epochs for bar graph panel\n",
    "\n",
    "epoch1_notdis, epoch1_dis  = [], []\n",
    "epoch2_notdis, epoch2_dis  = [], []\n",
    "epoch3_notdis, epoch3_dis = [], []\n",
    "\n",
    "for day, epoch1, epoch2, epoch3 in zip([dis_notdis_photo_snips, dis_dis_photo_snips],\n",
    "                                       [epoch1_notdis, epoch1_dis],\n",
    "                                       [epoch2_notdis, epoch2_dis],\n",
    "                                       [epoch3_notdis, epoch3_dis]):\n",
    "    for rat in day:\n",
    "        e1, e2, e3 = [], [], []\n",
    "        for snip in rat:\n",
    "            e1.append(np.mean(snip[0:5]))\n",
    "            e2.append(np.mean(snip[6:9]))\n",
    "            e3.append(np.mean(snip[9:]))\n",
    "        epoch1.append(np.mean(e1))\n",
    "        epoch2.append(np.mean(e2))\n",
    "        epoch3.append(np.mean(e3))"
   ]
  },
  {
   "cell_type": "code",
   "execution_count": 68,
   "metadata": {},
   "outputs": [
    {
     "data": {
      "text/plain": [
       "dict_keys(['rat', 'rms', 'fs', 'deltaF', 'tick', 'filt_sd', 'licks', 'licks_off', 'distractors', 'distracted', 'notdistracted', 'd_bool_array', 'pdp', 'pre_dp', 'trialtype', 'lickdata', 'snips_distractors', 'snips_distracted', 'snips_not-distracted'])"
      ]
     },
     "execution_count": 68,
     "metadata": {},
     "output_type": "execute_result"
    }
   ],
   "source": [
    "disDict[\"thph2.1\"].keys()"
   ]
  },
  {
   "cell_type": "code",
   "execution_count": 69,
   "metadata": {},
   "outputs": [
    {
     "data": {
      "image/png": "[encoded data removed]",
      "text/plain": [
       "<Figure size 288x144 with 3 Axes>"
      ]
     },
     "metadata": {
      "needs_background": "light"
     },
     "output_type": "display_data"
    }
   ],
   "source": [
    "f, ax = plt.subplots(figsize=(4,2), ncols=3)\n",
    "f.subplots_adjust(left=0.15, wspace=0.3)\n",
    "\n",
    "colors=['xkcd:light grey', colors_dis[1]]\n",
    "\n",
    "tp.barscatter([epoch1_notdis, epoch1_dis], paired=True,\n",
    "           barfacecolor=colors, barfacecoloroption='individual',\n",
    "           scattersize=scattersize,\n",
    "           ax=ax[0])\n",
    "\n",
    "tp.barscatter([epoch2_notdis, epoch2_dis], paired=True,\n",
    "           barfacecolor=colors, barfacecoloroption='individual',\n",
    "           scattersize=scattersize,\n",
    "           ax=ax[1])\n",
    "\n",
    "tp.barscatter([epoch3_notdis, epoch3_dis], paired=True,\n",
    "           barfacecolor=colors, barfacecoloroption='individual',\n",
    "           scattersize=scattersize,\n",
    "           ax=ax[2])\n",
    "\n",
    "for axis in ax:\n",
    "    axis.set_xticks([])\n",
    "    axis.set_ylim([-0.3, 1.0]) # changed from [-5.5, 4]\n",
    "    axis.set_yticks([-4, -2, 0, 2, 4])\n",
    "    axis.set_yticklabels([])\n",
    "    axis.text(1, -4.9, 'Not', ha='center')\n",
    "    axis.text(2, -4.9, 'Dis', ha='center')\n",
    "    \n",
    "ax[0].set_ylabel('AUC (Z-score)')\n",
    "\n",
    "ax[0].set_yticklabels([\"-4\", \"-2\", '0', '2', '4'])\n",
    "\n",
    "ax[0].set_title('Pre')\n",
    "ax[1].set_title('Dist.')\n",
    "ax[2].set_title('Post')\n",
    "\n",
    "f.savefig(figfolder+\"fig4_photo_disVnotdis_epochs.pdf\")\n"
   ]
  },
  {
   "cell_type": "code",
   "execution_count": 70,
   "metadata": {
    "scrolled": true
   },
   "outputs": [
    {
     "name": "stdout",
     "output_type": "stream",
     "text": [
      "                   Anova\n",
      "============================================\n",
      "               F Value Num DF  Den DF Pr > F\n",
      "--------------------------------------------\n",
      "variable        8.6733 2.0000 24.0000 0.0015\n",
      "trial          15.0014 1.0000 12.0000 0.0022\n",
      "variable:trial 10.8537 2.0000 24.0000 0.0004\n",
      "============================================\n",
      "\n",
      "Epoch 1 - pre -0.2427519078322366 0.8122971795245387 Sidak: 0.9933867887555538\n",
      "Epoch 2 - dis -2.53313426068498 0.026267685005721655 Sidak: 0.07675120566396854\n",
      "Epoch 3 - post -5.565975721698865 0.00012260677228993286 Sidak: 0.0003677752214510388\n"
     ]
    }
   ],
   "source": [
    "data = np.array([epoch1_notdis, epoch2_notdis, epoch3_notdis], dtype=\"float\").T\n",
    "\n",
    "df = pd.DataFrame(data, columns=[\"e1\", \"e2\", \"e3\"], index=rats)\n",
    "df.insert(0, \"ratid\", rats)\n",
    "df1 = df.melt(id_vars = \"ratid\")\n",
    "df1.insert(1, \"trial\", \"mod\")\n",
    "\n",
    "data = np.array([epoch1_dis, epoch2_dis, epoch3_dis], dtype=\"float\").T\n",
    "\n",
    "df = pd.DataFrame(data, columns=[\"e1\", \"e2\", \"e3\"], index=rats)\n",
    "df.insert(0, \"ratid\", rats)\n",
    "df2 = df.melt(id_vars = \"ratid\")\n",
    "df2.insert(1, \"trial\", \"dis\")\n",
    "\n",
    "df3 = pd.concat([df1, df2])\n",
    "\n",
    "aovrm = AnovaRM(df3, \"value\", \"ratid\", within=[\"variable\", \"trial\"])\n",
    "res = aovrm.fit()\n",
    "\n",
    "print(res)\n",
    "\n",
    "t, p = stats.ttest_rel(epoch1_notdis, epoch1_dis)\n",
    "print('Epoch 1 - pre', t, p, \"Sidak:\", tp.sidakcorr(p))\n",
    "\n",
    "t, p = stats.ttest_rel(epoch2_notdis, epoch2_dis)\n",
    "print('Epoch 2 - dis', t, p, \"Sidak:\", tp.sidakcorr(p))\n",
    "\n",
    "t, p = stats.ttest_rel(epoch3_notdis, epoch3_dis)\n",
    "print('Epoch 3 - post', t, p, \"Sidak:\", tp.sidakcorr(p))"
   ]
  },
  {
   "cell_type": "markdown",
   "metadata": {},
   "source": [
    "## Analysis for Fig 5 - photometry comparison between distraction day and habituation day - all trials then distracted and not distracted separately"
   ]
  },
  {
   "cell_type": "code",
   "execution_count": 79,
   "metadata": {
    "scrolled": true
   },
   "outputs": [
    {
     "data": {
      "image/png": "[encoded data removed]",
      "text/plain": [
       "<Figure size 244.8x144 with 3 Axes>"
      ]
     },
     "metadata": {
      "needs_background": "light"
     },
     "output_type": "display_data"
    }
   ],
   "source": [
    "# Loads in ROC data for distraction vs habituation day ROC - ALL trials\n",
    "pickle_in = open(outputfolder+\"roc_photo_alltrials_disVhab.pickle\", 'rb')\n",
    "       \n",
    "[a, p, data] = dill.load(pickle_in)\n",
    "        \n",
    "f = plt.figure(figsize=(3.4,2))\n",
    "f, ax = tp.plot_ROC_and_line(f, a, p, data[0], data[1],\n",
    "                 cdict = [(0, colors_days[1]), (0.25, colors_days[1]), (0.5, 'white'), (0.75, colors_days[2]), (1, colors_days[2])],\n",
    "                 colors = [colors_days[1], colors_days[2]],\n",
    "                 labels=['Distraction', 'Habituation'],\n",
    "                 ylabel='Z-score')\n",
    "\n",
    "ax[1].set_xlabel(\"Time from distractor (s)\")\n",
    "ax[1].set_xticks([0, 5, 10, 15])\n",
    "ax[1].set_xticklabels([\"-5\", \"0\", \"5\", \"10\", \"15\"])\n",
    "\n",
    "ax[1].set_yticks([-1, 0, 1])\n",
    "# ax[1].set_ylim([-1.1, 1.3])\n",
    "\n",
    "f.savefig(figfolder+\"fig5_roc-photo-disVhab.pdf\")"
   ]
  },
  {
   "cell_type": "code",
   "execution_count": 72,
   "metadata": {},
   "outputs": [
    {
     "data": {
      "image/png": "[encoded data removed]",
      "text/plain": [
       "<Figure size 244.8x144 with 3 Axes>"
      ]
     },
     "metadata": {
      "needs_background": "light"
     },
     "output_type": "display_data"
    }
   ],
   "source": [
    "# Loads in ROC data for distraction vs habituation day ROC - ONLY DISTRACTED TRIALS\n",
    "pickle_in = open(outputfolder+\"roc_photo_distrials_disVhab.pickle\", 'rb')\n",
    "       \n",
    "[a, p, data] = dill.load(pickle_in)\n",
    "        \n",
    "f = plt.figure(figsize=(3.4,2))\n",
    "f, ax = tp.plot_ROC_and_line(f, a, p, data[0], data[1],\n",
    "                 cdict = [(0, colors_days[1]), (0.25, colors_days[1]), (0.5, 'white'), (0.75, colors_days[2]), (1, colors_days[2])],\n",
    "                 colors = [colors_days[1], colors_days[2]],\n",
    "                 labels=['Distraction', 'Habituation'],\n",
    "                 ylabel='Z-score')\n",
    "\n",
    "ax[1].set_xlabel(\"Time from distractor (s)\")\n",
    "ax[1].set_xticks([0, 5, 10, 15])\n",
    "ax[1].set_xticklabels([\"-5\", \"0\", \"5\", \"10\", \"15\"])\n",
    "\n",
    "ax[1].set_yticks([-1, 0, 1])\n",
    "# ax[1].set_ylim([-1.1, 1.7])\n",
    "\n",
    "f.savefig(figfolder+\"fig5_roc-photo-disVhab-onlyDIS.pdf\")"
   ]
  },
  {
   "cell_type": "code",
   "execution_count": 73,
   "metadata": {},
   "outputs": [
    {
     "data": {
      "image/png": "[encoded data removed]",
      "text/plain": [
       "<Figure size 244.8x144 with 3 Axes>"
      ]
     },
     "metadata": {
      "needs_background": "light"
     },
     "output_type": "display_data"
    }
   ],
   "source": [
    "# Loads in ROC data for distraction vs habituation day ROC - ONLY NOT DISTRACTED TRIALS\n",
    "pickle_in = open(outputfolder+\"roc_photo_notdistrials_disVhab.pickle\", 'rb')\n",
    "       \n",
    "[a, p, data] = dill.load(pickle_in)\n",
    "        \n",
    "f = plt.figure(figsize=(3.4,2))\n",
    "f, ax = tp.plot_ROC_and_line(f, a, p, data[0], data[1],\n",
    "                 cdict = [(0, colors_days[1]), (0.25, colors_days[1]), (0.5, 'white'), (0.75, colors_days[2]), (1, colors_days[2])],\n",
    "                 colors = [colors_days[1], colors_days[2]],\n",
    "                 labels=['Distraction', 'Habituation'],\n",
    "                 ylabel='Z-score')\n",
    "\n",
    "ax[1].set_xlabel(\"Time from distractor (s)\")\n",
    "ax[1].set_xticks([0, 5, 10, 15])\n",
    "ax[1].set_xticklabels([\"-5\", \"0\", \"5\", \"10\", \"15\"])\n",
    "\n",
    "ax[1].set_yticks([-1, 0, 1])\n",
    "# ax[1].set_ylim([-1.1, 1.2])\n",
    "\n",
    "f.savefig(figfolder+\"fig5_roc-photo-disVhab-onlyNOTDIS.pdf\")"
   ]
  },
  {
   "cell_type": "markdown",
   "metadata": {},
   "source": [
    "## Analysis for Extended Data Fig - photometry comparison between distracted and non-distracted trials USING NON-ZSCORED SIGNAL"
   ]
  },
  {
   "cell_type": "code",
   "execution_count": 74,
   "metadata": {},
   "outputs": [
    {
     "data": {
      "image/png": "[encoded data removed]",
      "text/plain": [
       "<Figure size 244.8x144 with 3 Axes>"
      ]
     },
     "metadata": {
      "needs_background": "light"
     },
     "output_type": "display_data"
    }
   ],
   "source": [
    "# Loads in ROC data for modelled vs distraction day ROC\n",
    "try:\n",
    "    pickle_in = open(outputfolder+\"roc_photo_disday_disVnotdis_filt.pickle\", 'rb')\n",
    "except FileNotFoundError:\n",
    "        print('Cannot access pickled file')\n",
    "        \n",
    "[a, p, data] = dill.load(pickle_in)\n",
    "        \n",
    "f = plt.figure(figsize=(3.4,2))\n",
    "f, ax = tp.plot_ROC_and_line(f, a, p, data[0], data[1],\n",
    "                 cdict=[colors_dis[0], 'white', colors_dis[1]],\n",
    "                 colors = colors_dis,\n",
    "                 labels=['Not distracted', 'Distracted'],\n",
    "                 ylabel='Delta F')\n",
    "\n",
    "ax[1].set_yticks([0, 2, 4])\n",
    "ax[1].set_ylim([-0.2, 5.5])\n",
    "\n",
    "ax[1].set_xlabel(\"Time from distractor (s)\")\n",
    "ax[1].set_xticks([0, 5, 10, 15])\n",
    "ax[1].set_xticklabels([\"-5\", \"0\", \"5\", \"10\", \"15\"])\n",
    "\n",
    "f.savefig(figfolder+\"extfig_roc-photo-disVnondis.pdf\")"
   ]
  },
  {
   "cell_type": "code",
   "execution_count": 75,
   "metadata": {},
   "outputs": [],
   "source": [
    "# organises data into epochs for bar graph panel\n",
    "\n",
    "epoch1_notdis, epoch1_dis  = [], []\n",
    "epoch2_notdis, epoch2_dis  = [], []\n",
    "epoch3_notdis, epoch3_dis = [], []\n",
    "\n",
    "for day, epoch1, epoch2, epoch3 in zip([dis_notdis_filt_photo_snips, dis_dis_filt_photo_snips],\n",
    "                                       [epoch1_notdis, epoch1_dis],\n",
    "                                       [epoch2_notdis, epoch2_dis],\n",
    "                                       [epoch3_notdis, epoch3_dis]):\n",
    "    for rat in day:\n",
    "        e1, e2, e3 = [], [], []\n",
    "        for snip in rat:\n",
    "            e1.append(np.mean(snip[0:5]))\n",
    "            e2.append(np.mean(snip[6:9]))\n",
    "            e3.append(np.mean(snip[9:]))\n",
    "        epoch1.append(np.mean(e1))\n",
    "        epoch2.append(np.mean(e2))\n",
    "        epoch3.append(np.mean(e3))"
   ]
  },
  {
   "cell_type": "code",
   "execution_count": 76,
   "metadata": {},
   "outputs": [
    {
     "data": {
      "image/png": "[encoded data removed]",
      "text/plain": [
       "<Figure size 288x144 with 3 Axes>"
      ]
     },
     "metadata": {
      "needs_background": "light"
     },
     "output_type": "display_data"
    }
   ],
   "source": [
    "f, ax = plt.subplots(figsize=(4,2), ncols=3, sharey=True)\n",
    "f.subplots_adjust(left=0.15, wspace=0.3)\n",
    "\n",
    "colors=['xkcd:light grey', colors_dis[1]]\n",
    "\n",
    "tp.barscatter([epoch1_notdis, epoch1_dis], paired=True,\n",
    "           barfacecolor=colors, barfacecoloroption='individual',\n",
    "           scattersize=scattersize,\n",
    "           ax=ax[0])\n",
    "\n",
    "tp.barscatter([epoch2_notdis, epoch2_dis], paired=True,\n",
    "           barfacecolor=colors, barfacecoloroption='individual',\n",
    "           scattersize=scattersize,\n",
    "           ax=ax[1])\n",
    "\n",
    "tp.barscatter([epoch3_notdis, epoch3_dis], paired=True,\n",
    "           barfacecolor=colors, barfacecoloroption='individual',\n",
    "           scattersize=scattersize,\n",
    "           ax=ax[2])\n",
    "\n",
    "\n",
    "for axis in ax:\n",
    "    trans = transforms.blended_transform_factory(\n",
    "                axis.transData, axis.transAxes)\n",
    "    axis.set_xticks([])\n",
    "#     axis.set_ylim([-0.3, 1.0]) # changed from [-5.5, 4]\n",
    "    axis.set_yticks([-10, 0, 10])\n",
    "#     axis.set_yticklabels([])\n",
    "    axis.text(1, -0.1, 'Not', ha='center', transform=trans)\n",
    "    axis.text(2, -0.1, 'Dis', ha='center', transform=trans)\n",
    "    \n",
    "ax[0].set_ylabel('AUC (Delta F)')\n",
    "\n",
    "# ax[0].set_yticklabels([\"-10\", \"-5\", '0', '5', '10'])\n",
    "\n",
    "ax[0].set_title('Pre')\n",
    "ax[1].set_title('Dist.')\n",
    "ax[2].set_title('Post')\n",
    "\n",
    "f.savefig(figfolder+\"extfig_photo_disVnotdis_epochs.pdf\")"
   ]
  },
  {
   "cell_type": "code",
   "execution_count": 77,
   "metadata": {},
   "outputs": [
    {
     "name": "stdout",
     "output_type": "stream",
     "text": [
      "                   Anova\n",
      "============================================\n",
      "               F Value Num DF  Den DF Pr > F\n",
      "--------------------------------------------\n",
      "variable        7.5682 2.0000 24.0000 0.0028\n",
      "trial           9.2899 1.0000 12.0000 0.0101\n",
      "variable:trial  7.3914 2.0000 24.0000 0.0032\n",
      "============================================\n",
      "\n",
      "Epoch 1 - pre -2.1731398150008903 0.05051032916815173 Sidak: 0.14400597411347804\n",
      "Epoch 2 - dis -2.8733523012798576 0.014002377714153023 Sidak: 0.04142167879584302\n",
      "Epoch 3 - post -3.88253730341847 0.0021778470301866922 Sidak: 0.006519322367066205\n"
     ]
    }
   ],
   "source": [
    "data = np.array([epoch1_notdis, epoch2_notdis, epoch3_notdis], dtype=\"float\").T\n",
    "\n",
    "df = pd.DataFrame(data, columns=[\"e1\", \"e2\", \"e3\"], index=rats)\n",
    "df.insert(0, \"ratid\", rats)\n",
    "df1 = df.melt(id_vars = \"ratid\")\n",
    "df1.insert(1, \"trial\", \"mod\")\n",
    "\n",
    "data = np.array([epoch1_dis, epoch2_dis, epoch3_dis], dtype=\"float\").T\n",
    "\n",
    "df = pd.DataFrame(data, columns=[\"e1\", \"e2\", \"e3\"], index=rats)\n",
    "df.insert(0, \"ratid\", rats)\n",
    "df2 = df.melt(id_vars = \"ratid\")\n",
    "df2.insert(1, \"trial\", \"dis\")\n",
    "\n",
    "df3 = pd.concat([df1, df2])\n",
    "\n",
    "aovrm = AnovaRM(df3, \"value\", \"ratid\", within=[\"variable\", \"trial\"])\n",
    "res = aovrm.fit()\n",
    "\n",
    "print(res)\n",
    "t, p = stats.ttest_rel(epoch1_notdis, epoch1_dis)\n",
    "print('Epoch 1 - pre', t, p, \"Sidak:\", tp.sidakcorr(p))\n",
    "\n",
    "t, p = stats.ttest_rel(epoch2_notdis, epoch2_dis)\n",
    "print('Epoch 2 - dis', t, p, \"Sidak:\", tp.sidakcorr(p))\n",
    "\n",
    "t, p = stats.ttest_rel(epoch3_notdis, epoch3_dis)\n",
    "print('Epoch 3 - post', t, p, \"Sidak:\", tp.sidakcorr(p))"
   ]
  }
 ],
 "metadata": {
  "kernelspec": {
   "display_name": "Python 3",
   "language": "python",
   "name": "python3"
  },
  "language_info": {
   "codemirror_mode": {
    "name": "ipython",
    "version": 3
   },
   "file_extension": ".py",
   "mimetype": "text/x-python",
   "name": "python",
   "nbconvert_exporter": "python",
   "pygments_lexer": "ipython3",
   "version": "3.7.6"
  }
 },
 "nbformat": 4,
 "nbformat_minor": 4
}
