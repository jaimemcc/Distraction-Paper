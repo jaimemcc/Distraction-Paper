{
 "cells": [
  {
   "cell_type": "code",
   "execution_count": 53,
   "metadata": {},
   "outputs": [],
   "source": [
    "import dill\n",
    "import matplotlib.pyplot as plt\n",
    "import matplotlib as mpl\n",
    "import matplotlib.transforms as transforms\n",
    "import numpy as np\n",
    "import csv\n",
    "from scipy import stats\n",
    "import trompy as tp\n",
    "import pandas as pd\n",
    "from statsmodels.stats.anova import AnovaRM\n",
    "\n",
    "%matplotlib inline"
   ]
  },
  {
   "cell_type": "code",
   "execution_count": 2,
   "metadata": {},
   "outputs": [],
   "source": [
    "# fig settings\n",
    "scattersize=50\n",
    "colors = ['darkturquoise','dodgerblue', 'darkblue']"
   ]
  },
  {
   "cell_type": "code",
   "execution_count": 3,
   "metadata": {},
   "outputs": [],
   "source": [
    "datafolder = \"C:\\\\Github\\\\Distraction-Paper\\\\data\\\\\"\n",
    "figfolder = \"C:\\\\Github\\\\Distraction-Paper\\\\figs\\\\\"\n",
    "statsfolder = \"C:\\\\Github\\\\Distraction-Paper\\\\stats\\\\\"\n",
    "\n",
    "try:\n",
    "    pickle_in = open(datafolder + \"distraction_data_only_snips.pickle\", 'rb')\n",
    "except FileNotFoundError:\n",
    "        print('Cannot access pickled file')\n",
    "\n",
    "[modDict, disDict, habDict] = dill.load(pickle_in)"
   ]
  },
  {
   "cell_type": "code",
   "execution_count": 4,
   "metadata": {},
   "outputs": [
    {
     "data": {
      "text/plain": [
       "''"
      ]
     },
     "execution_count": 4,
     "metadata": {},
     "output_type": "execute_result"
    }
   ],
   "source": [
    "# thph2.8 removed from analysis because no data on habituation day\n",
    "\n",
    "modDict.pop('thph2.8')\n",
    "disDict.pop('thph2.8')\n",
    ";"
   ]
  },
  {
   "cell_type": "code",
   "execution_count": null,
   "metadata": {},
   "outputs": [],
   "source": [
    "def get_rms(daydict):\n",
    "    \n",
    "    \"\"\" Gets rms for all rats\"\"\"\n",
    "    rms = []\n",
    "\n",
    "    rats = daydict.keys()\n",
    "    for rat in rats:\n",
    "        d = daydict[rat]\n",
    "        rms.append(d[\"rms\"])\n",
    "        \n",
    "    return rms\n",
    "\n",
    "rms_mod = get_rms(modDict)\n",
    "rms_dis = get_rms(disDict)\n",
    "rms_hab = get_rms(habDict)"
   ]
  },
  {
   "cell_type": "code",
   "execution_count": 67,
   "metadata": {},
   "outputs": [],
   "source": [
    "def get_epoch_auc(daydict, signal=\"filt\", epoch=[0, 40], predp_threshold=5):\n",
    "    \"\"\"Gets average baseline on trials from filtered, non-zscored signal\"\"\"\n",
    "    \n",
    "    baseline_auc = []\n",
    "    \n",
    "    rats = daydict.keys()\n",
    "    for rat in rats:\n",
    "        d = daydict[rat]\n",
    "        \n",
    "        bl = [np.mean(snip[epoch[0]:epoch[1]]) for snip, predp in zip(d[\"snips_distractors\"][signal], d[\"pre_dp\"]) if (predp > predp_threshold)]\n",
    "        baseline_auc.append(np.mean(bl))\n",
    "        \n",
    "    return baseline_auc\n",
    "\n",
    "threshold = 0\n",
    "\n",
    "epoch = [0, 40]\n",
    "\n",
    "mod_bl = get_epoch_auc(modDict, predp_threshold=threshold, epoch=epoch)\n",
    "dis_bl = get_epoch_auc(disDict, predp_threshold=threshold, epoch=epoch)\n",
    "hab_bl = get_epoch_auc(habDict, predp_threshold=threshold, epoch=epoch)\n",
    "\n",
    "epoch = [60, 90]\n",
    "\n",
    "mod_ep2 = get_epoch_auc(modDict, predp_threshold=threshold, epoch=epoch)\n",
    "dis_ep2 = get_epoch_auc(disDict, predp_threshold=threshold, epoch=epoch)\n",
    "hab_ep2 = get_epoch_auc(habDict, predp_threshold=threshold, epoch=epoch)"
   ]
  },
  {
   "cell_type": "code",
   "execution_count": 73,
   "metadata": {},
   "outputs": [
    {
     "data": {
      "image/png": "[encoded data removed]",
      "text/plain": [
       "<Figure size 432x216 with 3 Axes>"
      ]
     },
     "metadata": {
      "needs_background": "light"
     },
     "output_type": "display_data"
    }
   ],
   "source": [
    "f, [ax1, ax2, ax3] = plt.subplots(figsize=(6,3), ncols=3)\n",
    "f.subplots_adjust(left=0.1, wspace=0.6)\n",
    "\n",
    "_, barx, _, _ = tp.barscatter([rms_dis, rms_hab], paired=True,\n",
    "           barfacecolor=colors[1:], barfacecoloroption='individual',\n",
    "           scattersize=scattersize,\n",
    "           ax=ax1)\n",
    "\n",
    "ax1.set_ylabel('RMS (filtered signal)')\n",
    "ax1.set_ylim([-0.5, 13])\n",
    "\n",
    "tp.barscatter([dis_bl, hab_bl], paired=True,\n",
    "           barfacecolor=colors[1:], barfacecoloroption='individual',\n",
    "           scattersize=scattersize,\n",
    "           ax=ax2)\n",
    "\n",
    "ax2.set_ylabel('AUC (Baseline)')\n",
    "ax2.set_yticks([-5, 0, 5, 10, 15])\n",
    "\n",
    "tp.barscatter([dis_ep2, hab_ep2], paired=True,\n",
    "           barfacecolor=colors[1:], barfacecoloroption='individual',\n",
    "           scattersize=scattersize,\n",
    "           ax=ax3)\n",
    "\n",
    "ax3.set_ylabel('AUC (1-4 s)')\n",
    "ax3.set_yticks([-5, 0, 5, 10, 15])\n",
    "\n",
    "barlabels=['Dis', 'Hab']\n",
    "\n",
    "for axis in [ax1, ax2, ax3]:\n",
    "    trans = transforms.blended_transform_factory(\n",
    "                axis.transData, axis.transAxes)\n",
    "    for x, label in zip(barx, barlabels):\n",
    "        axis.text(x, -0.07, label, ha=\"center\", transform=trans)\n",
    "\n",
    "f.savefig(figfolder+\"figs6_rms_and_bl.pdf\")"
   ]
  },
  {
   "cell_type": "code",
   "execution_count": 71,
   "metadata": {},
   "outputs": [
    {
     "name": "stdout",
     "output_type": "stream",
     "text": [
      "RMS (Dis) vs RMS (Hab) 1.5850746150417214 0.13893468636891437 Sidak: 0.36157735288204806\n",
      "BL (Dis) vs BL (Hab) 1.9840900717804237 0.07059629188121051 Sidak: 0.19718920673261564\n",
      "E2 (Dis) vs E2 (Hab) 2.2776439210309 0.04185609230875025 Sidak: 0.12038580858307979\n"
     ]
    }
   ],
   "source": [
    "t, p = stats.ttest_rel(rms_dis, rms_hab)\n",
    "print('RMS (Dis) vs RMS (Hab)', t, p, \"Sidak:\", tp.sidakcorr(p))\n",
    "\n",
    "t, p = stats.ttest_rel(dis_bl, hab_bl)\n",
    "print('BL (Dis) vs BL (Hab)', t, p, \"Sidak:\", tp.sidakcorr(p))\n",
    "\n",
    "t, p = stats.ttest_rel(dis_ep2, hab_ep2)\n",
    "print('E2 (Dis) vs E2 (Hab)', t, p, \"Sidak:\", tp.sidakcorr(p))"
   ]
  },
  {
   "cell_type": "code",
   "execution_count": null,
   "metadata": {},
   "outputs": [],
   "source": []
  }
 ],
 "metadata": {
  "kernelspec": {
   "display_name": "Python 3",
   "language": "python",
   "name": "python3"
  },
  "language_info": {
   "codemirror_mode": {
    "name": "ipython",
    "version": 3
   },
   "file_extension": ".py",
   "mimetype": "text/x-python",
   "name": "python",
   "nbconvert_exporter": "python",
   "pygments_lexer": "ipython3",
   "version": "3.7.6"
  }
 },
 "nbformat": 4,
 "nbformat_minor": 4
}
