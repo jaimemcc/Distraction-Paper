{
 "cells": [
  {
   "cell_type": "code",
   "execution_count": 3,
   "metadata": {},
   "outputs": [],
   "source": [
    "import dill\n",
    "import matplotlib.pyplot as plt\n",
    "import matplotlib as mpl\n",
    "import matplotlib.transforms as transforms\n",
    "import numpy as np\n",
    "import csv\n",
    "from scipy import stats\n",
    "import trompy as tp\n",
    "\n",
    "import pandas as pd\n",
    "from statsmodels.stats.anova import AnovaRM\n",
    "\n",
    "%matplotlib inline"
   ]
  },
  {
   "cell_type": "code",
   "execution_count": 4,
   "metadata": {},
   "outputs": [],
   "source": [
    "# fig settings\n",
    "scattersize=50\n",
    "colors = ['darkturquoise','dodgerblue', 'darkblue']"
   ]
  },
  {
   "cell_type": "code",
   "execution_count": 5,
   "metadata": {},
   "outputs": [],
   "source": [
    "datafolder = \"C:\\\\Github\\\\Distraction-Paper\\\\data\\\\\"\n",
    "figfolder = \"C:\\\\Github\\\\Distraction-Paper\\\\figs\\\\\"\n",
    "statsfolder = \"C:\\\\Github\\\\Distraction-Paper\\\\stats\\\\\"\n",
    "\n",
    "try:\n",
    "    pickle_in = open(datafolder + \"distraction_data_only_snips.pickle\", 'rb')\n",
    "except FileNotFoundError:\n",
    "        print('Cannot access pickled file')\n",
    "\n",
    "[modDict, disDict, habDict] = dill.load(pickle_in)"
   ]
  },
  {
   "cell_type": "code",
   "execution_count": 6,
   "metadata": {},
   "outputs": [
    {
     "data": {
      "text/plain": [
       "''"
      ]
     },
     "execution_count": 6,
     "metadata": {},
     "output_type": "execute_result"
    }
   ],
   "source": [
    "# thph2.8 removed from analysis because no data on habituation day\n",
    "\n",
    "modDict.pop('thph2.8')\n",
    "disDict.pop('thph2.8')\n",
    ";"
   ]
  },
  {
   "cell_type": "code",
   "execution_count": 7,
   "metadata": {},
   "outputs": [],
   "source": [
    "# adds parameters used for figures - no. of distractors, distracted, not distracted and calculates probability of distraction\n",
    "\n",
    "for day in [modDict, disDict, habDict]:\n",
    "    rats = day.keys()\n",
    "    for rat in rats:\n",
    "        d = day[rat]\n",
    "        # check that numbers add up\n",
    "        d ['#ds'] =len(d['distractors'])\n",
    "        d ['#distracted'] =len(d['distracted'])\n",
    "        d ['#not-dis'] =len(d['notdistracted'])   \n",
    "        if d['#not-dis'] + d['#distracted'] == d['#ds']:\n",
    "            d['prob-distracted'] = d['#distracted'] / d['#ds']\n",
    "        else:\n",
    "            print(\"Something wrong in the number of distracted and non-distracted trials\")\n"
   ]
  },
  {
   "cell_type": "code",
   "execution_count": 8,
   "metadata": {},
   "outputs": [],
   "source": [
    "def find_tercile_prob(d, verbose=False):\n",
    "    \"\"\" Finds probability distracted for each tercile from distraction data dictionary\n",
    "    \n",
    "    Args\n",
    "    d - dictionary with distraction data\n",
    "    \n",
    "    Returns\n",
    "    tercile_prob_distracted - list of 3 values\"\"\"\n",
    "    \n",
    "    tercile_length = int(np.round((d[\"#ds\"] / 3)))\n",
    "    tercile_length_array = [tercile_length, d[\"#ds\"] - tercile_length*2, tercile_length]\n",
    "\n",
    "    dba = d[\"d_bool_array\"]\n",
    "    t1 = sum(dba[:tercile_length_array[0]])\n",
    "    t2 = sum(dba[tercile_length_array[0]:tercile_length_array[1]+tercile_length_array[0]])\n",
    "    t3 = sum(dba[tercile_length_array[1]+tercile_length_array[0]:])\n",
    "\n",
    "    tercile_prob_distracted = []\n",
    "    for t_sum, t_len in zip([t1, t2, t3], tercile_length_array):\n",
    "        tercile_prob_distracted.append(t_sum / t_len)\n",
    "\n",
    "\n",
    "    if sum([t1, t2, t3]) != len(d[\"distracted\"]):\n",
    "        print(\"Check tercile calculation\")\n",
    "        \n",
    "    if verbose:\n",
    "        print(d[\"rat\"], sum([t1, t2, t3]), len(d[\"distracted\"]), len(d[\"notdistracted\"]), print(sum(dba)))\n",
    "        print(\"Tercile length array\", tercile_length_array)\n",
    "        print(\"Number of distractors\", d[\"#ds\"])\n",
    "        print(dba)\n",
    "        print(\"Tercile probability of distraction\", tercile_prob_distracted)\n",
    "        print(\"Number of Trues in each tercile\", t1, t2, t3)\n",
    "        print(\"\\n\")\n",
    "        \n",
    "    return tercile_prob_distracted\n",
    "\n",
    "rats = modDict.keys()\n",
    "\n",
    "all_tercile_probs = []\n",
    "for rat in rats:\n",
    "    t_probs = []\n",
    "    t_probs.append(find_tercile_prob(modDict[rat]))\n",
    "    t_probs.append(find_tercile_prob(disDict[rat]))\n",
    "    t_probs.append(find_tercile_prob(habDict[rat]))\n",
    "    \n",
    "    all_tercile_probs.append(tp.flatten_list(t_probs))\n",
    "\n",
    "all_tercile_probs_array = np.array(all_tercile_probs)"
   ]
  },
  {
   "cell_type": "code",
   "execution_count": 9,
   "metadata": {},
   "outputs": [],
   "source": [
    "def find_tercile_aucs(d, epoch=[60, 90], signal=\"filt_z\"):\n",
    "    \"\"\" Finds probability distracted for each tercile from distraction data dictionary\n",
    "    \n",
    "    Args\n",
    "    d - dictionary with distraction data from single rat\n",
    "    \n",
    "    Returns\n",
    "    tercile_prob_distracted - list of 3 values\"\"\"\n",
    "    \n",
    "    tercile_length = int(np.round((d[\"#ds\"] / 3)))\n",
    "    tercile_length_array = [tercile_length, d[\"#ds\"] - tercile_length*2, tercile_length]\n",
    "\n",
    "    snips = d[\"snips_distractors\"][signal]\n",
    "    t1 = [np.mean(snip[epoch[0]:epoch[1]]) for snip in snips[:tercile_length_array[0]]]\n",
    "    t2 = [np.mean(snip[epoch[0]:epoch[1]]) for snip in snips[tercile_length_array[0]:tercile_length_array[1]+tercile_length_array[0]]]\n",
    "    t3 = [np.mean(snip[epoch[0]:epoch[1]]) for snip in snips[tercile_length_array[1]+tercile_length_array[0]:]]\n",
    "    \n",
    "    \n",
    "    tercile_aucs = []\n",
    "    for t in [t1, t2, t3]:\n",
    "        tercile_aucs.append(np.mean(t))\n",
    "    \n",
    "    return tercile_aucs\n",
    "\n",
    "rats = modDict.keys()\n",
    "\n",
    "all_tercile_aucs = []\n",
    "for rat in rats:\n",
    "    t_aucs= []\n",
    "    t_aucs.append(find_tercile_aucs(modDict[rat]))\n",
    "    t_aucs.append(find_tercile_aucs(disDict[rat]))\n",
    "    t_aucs.append(find_tercile_aucs(habDict[rat]))\n",
    "    \n",
    "    all_tercile_aucs.append(tp.flatten_list(t_aucs))\n"
   ]
  },
  {
   "cell_type": "code",
   "execution_count": 10,
   "metadata": {},
   "outputs": [],
   "source": [
    "all_tercile_aucs_array = np.array(all_tercile_aucs)\n",
    "\n",
    "dis_probs = all_tercile_probs_array[:,3:6]\n",
    "dis_aucs = all_tercile_aucs_array[:,3:6]"
   ]
  },
  {
   "cell_type": "code",
   "execution_count": 11,
   "metadata": {},
   "outputs": [
    {
     "data": {
      "image/png": "[encoded data removed]",
      "text/plain": [
       "<Figure size 396x288 with 2 Axes>"
      ]
     },
     "metadata": {
      "needs_background": "light"
     },
     "output_type": "display_data"
    }
   ],
   "source": [
    "f, [ax1, ax2] = plt.subplots(ncols=2, figsize=(5.5,4))\n",
    "f.subplots_adjust(left=0.15, wspace=0.4)\n",
    "\n",
    "\n",
    "_, barx, _, _ = tp.barscatter(dis_probs.T, paired=True,\n",
    "              barfacecolor=[colors[1]], barfacecoloroption='same',\n",
    "              scattersize=scattersize,\n",
    "              ax=ax1)\n",
    "\n",
    "tp.barscatter(dis_aucs.T, paired=True,\n",
    "              barfacecolor=[colors[1]], barfacecoloroption='same',\n",
    "              scattersize=scattersize,\n",
    "              ax=ax2)\n",
    "\n",
    "ax1.set_ylabel(\"Probability of distraction\")\n",
    "ax2.set_ylabel(\"Z-score (AUC)\")\n",
    "\n",
    "ax1.set_ylim([-0.05, 1.1])\n",
    "\n",
    "barlabels=['1st', '2nd', '3rd']\n",
    "\n",
    "for axis in [ax1, ax2]:\n",
    "    trans = transforms.blended_transform_factory(\n",
    "                axis.transData, axis.transAxes)\n",
    "    for x, label in zip(barx, barlabels):\n",
    "        axis.text(x, -0.05, label, ha=\"center\", transform=trans)\n",
    "    axis.text(barx[1], -0.13, \"Tercile\", ha=\"center\", transform=trans)\n",
    "        \n",
    "f.savefig(figfolder + \"within_session_hab.pdf\")"
   ]
  },
  {
   "cell_type": "code",
   "execution_count": 12,
   "metadata": {},
   "outputs": [
    {
     "name": "stdout",
     "output_type": "stream",
     "text": [
      "                Anova\n",
      "======================================\n",
      "         F Value Num DF  Den DF Pr > F\n",
      "--------------------------------------\n",
      "variable  5.0127 2.0000 24.0000 0.0152\n",
      "======================================\n",
      "\n",
      "1 v 2 2.8236282257268974 0.015356220065884196 Sidak: 0.04536484091743631\n",
      "1 v 3 2.29752885513493 0.04037776743507989 Sidak: 0.11630804045870269\n",
      "2 v 3 0.637804302216334 0.5355821448177593 Sidak: 0.8998325252317831\n",
      "                Anova\n",
      "======================================\n",
      "         F Value Num DF  Den DF Pr > F\n",
      "--------------------------------------\n",
      "variable  0.7818 2.0000 24.0000 0.4689\n",
      "======================================\n",
      "\n"
     ]
    }
   ],
   "source": [
    "\n",
    "\n",
    "rats = disDict.keys()\n",
    "data = np.array(dis_probs, dtype=\"float\")\n",
    "\n",
    "\n",
    "df = pd.DataFrame(data, columns=[\"1\", \"2\", \"3\"], index=rats)\n",
    "df.insert(0, \"ratid\", rats)\n",
    "df = df.melt(id_vars = \"ratid\")\n",
    "\n",
    "aovrm = AnovaRM(df, \"value\", \"ratid\", within=[\"variable\"])\n",
    "res = aovrm.fit()\n",
    "\n",
    "print(res)\n",
    "t, p = stats.ttest_rel(dis_probs.T[0], dis_probs.T[1])\n",
    "print('1 v 2', t, p, \"Sidak:\", tp.sidakcorr(p))\n",
    "\n",
    "t, p = stats.ttest_rel(dis_probs.T[0], dis_probs.T[2])\n",
    "print('1 v 3', t, p, \"Sidak:\", tp.sidakcorr(p))\n",
    "\n",
    "t, p = stats.ttest_rel(dis_probs.T[1], dis_probs.T[2])\n",
    "print('2 v 3', t, p, \"Sidak:\", tp.sidakcorr(p))\n",
    "\n",
    "data = np.array(dis_aucs, dtype=\"float\")\n",
    "\n",
    "\n",
    "df = pd.DataFrame(data, columns=[\"1\", \"2\", \"3\"], index=rats)\n",
    "df.insert(0, \"ratid\", rats)\n",
    "df = df.melt(id_vars = \"ratid\")\n",
    "\n",
    "aovrm = AnovaRM(df, \"value\", \"ratid\", within=[\"variable\"])\n",
    "res = aovrm.fit()\n",
    "\n",
    "print(res)"
   ]
  },
  {
   "cell_type": "code",
   "execution_count": null,
   "metadata": {},
   "outputs": [],
   "source": []
  }
 ],
 "metadata": {
  "kernelspec": {
   "display_name": "Python 3",
   "language": "python",
   "name": "python3"
  },
  "language_info": {
   "codemirror_mode": {
    "name": "ipython",
    "version": 3
   },
   "file_extension": ".py",
   "mimetype": "text/x-python",
   "name": "python",
   "nbconvert_exporter": "python",
   "pygments_lexer": "ipython3",
   "version": "3.7.6"
  }
 },
 "nbformat": 4,
 "nbformat_minor": 4
}
