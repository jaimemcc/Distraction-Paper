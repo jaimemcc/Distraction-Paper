{
 "cells": [
  {
   "cell_type": "code",
   "execution_count": 92,
   "metadata": {},
   "outputs": [],
   "source": [
    "import dill\n",
    "import matplotlib.pyplot as plt\n",
    "import matplotlib as mpl\n",
    "import matplotlib.transforms as transforms\n",
    "from matplotlib.backends.backend_pdf import PdfPages\n",
    "import numpy as np\n",
    "\n",
    "from scipy.stats import linregress\n",
    "from scipy.stats import ttest_rel as ttest\n",
    "from scipy.stats import ttest_ind as ttest_ind\n",
    "\n",
    "import trompy as tp\n",
    "\n",
    "%matplotlib inline"
   ]
  },
  {
   "cell_type": "code",
   "execution_count": 93,
   "metadata": {},
   "outputs": [],
   "source": [
    "datafolder = \"C:\\\\Github\\\\Distraction-Paper\\\\data\\\\\"\n",
    "figfolder = \"C:\\\\Github\\\\Distraction-Paper\\\\figs\\\\\"\n",
    "outputfolder = \"C:\\\\Github\\\\Distraction-Paper\\\\output\\\\\"\n",
    "\n",
    "try:\n",
    "    pickle_in = open(datafolder + \"distraction_data_only_snips.pickle\", 'rb')\n",
    "except FileNotFoundError:\n",
    "        print('Cannot access pickled file')\n",
    "\n",
    "[modDict, disDict, habDict] = dill.load(pickle_in)"
   ]
  },
  {
   "cell_type": "code",
   "execution_count": 94,
   "metadata": {},
   "outputs": [
    {
     "data": {
      "text/plain": [
       "dict_keys(['rat', 'rms', 'fs', 'deltaF', 'tick', 'filt_sd', 'licks', 'licks_off', 'distractors', 'distracted', 'notdistracted', 'd_bool_array', 'pdp', 'pre_dp', 'trialtype', 'lickdata', 'snips_distractors', 'snips_distracted', 'snips_not-distracted'])"
      ]
     },
     "execution_count": 94,
     "metadata": {},
     "output_type": "execute_result"
    }
   ],
   "source": [
    "rat = 'thph1.1'\n",
    "d = disDict[rat]\n",
    "d.keys()"
   ]
  },
  {
   "cell_type": "code",
   "execution_count": 95,
   "metadata": {},
   "outputs": [],
   "source": [
    "epoch = [60, 90]\n",
    "pdp_threshold = 1\n",
    "\n",
    "PDPs = []\n",
    "AUCs = []\n",
    "\n",
    "rats = disDict.keys()\n",
    "for rat in rats:\n",
    "    d = disDict[rat]\n",
    "    snips = d[\"snips_distractors\"][\"filt_z\"]\n",
    "    \n",
    "    PDPs.append([pdp for pdp in d[\"pdp\"] if pdp > pdp_threshold])\n",
    "    AUCs.append([np.sum(snip[epoch[0]:epoch[1]]) for snip, pdp in zip(snips, d[\"pdp\"]) if pdp > pdp_threshold])\n",
    "    \n",
    "PDPs = tp.flatten_list(PDPs)\n",
    "AUCs = tp.flatten_list(AUCs)"
   ]
  },
  {
   "cell_type": "code",
   "execution_count": 96,
   "metadata": {
    "scrolled": true
   },
   "outputs": [
    {
     "data": {
      "image/png": "[encoded data removed]",
      "text/plain": [
       "<Figure size 360x216 with 2 Axes>"
      ]
     },
     "metadata": {
      "needs_background": "light"
     },
     "output_type": "display_data"
    }
   ],
   "source": [
    "\n",
    "f, [ax1, ax2] = plt.subplots(figsize=(5, 3), ncols=2, sharey=True)\n",
    "f.subplots_adjust(left=0.2, bottom=0.2, wspace=0.3)\n",
    "\n",
    "trans = transforms.blended_transform_factory(\n",
    "            ax1.transData, ax1.transAxes)\n",
    "\n",
    "ax1.scatter(PDPs, AUCs, marker=\"o\", color=\"none\", edgecolor=\"k\")\n",
    "\n",
    "ax1.set_ylabel(\"AUC (1-4 s)\")\n",
    "ax1.set_xlabel(\"Post-distraction pause (s)\")\n",
    "\n",
    "ax1.set_xscale(\"log\")\n",
    "\n",
    "slope, intercept, r, p, _ = linregress(PDPs, AUCs)\n",
    "\n",
    "x1, x2 = ax1.get_xlim()\n",
    "ax1.plot([x1, x2], [x1*slope + intercept, x2*slope+intercept], \"--\", color=\"xkcd:light blue\")\n",
    "\n",
    "\n",
    "stats_str = f\"r={r:2.2}\\np={p:2.3}\" \n",
    "ax1.text(300, 0.9, stats_str, transform=trans, ha=\"left\")\n",
    "\n",
    "\n",
    "median_pdp = np.median(PDPs)\n",
    "ax1.axvline(median_pdp, linestyle=\"--\", color=\"orange\", alpha=0.7)\n",
    "ax1.text(median_pdp, 1.03, \"Median PDP\", ha=\"center\", transform=trans)\n",
    "\n",
    "\n",
    "\n",
    "AUC_from_shPDPs = [auc for auc, pdp in zip(AUCs, PDPs) if pdp <= median_pdp]\n",
    "AUC_from_loPDPs = [auc for auc, pdp in zip(AUCs, PDPs) if pdp >= median_pdp]\n",
    "\n",
    "\n",
    "ax2.boxplot([AUC_from_shPDPs, AUC_from_loPDPs],\n",
    "            widths=0.7,\n",
    "            patch_artist =True,\n",
    "            notch=True)\n",
    "\n",
    "ax2.set_xticklabels([\"Short\", \"Long\"])\n",
    "ax2.set_xlabel(\"Post-distraction pause\")\n",
    "\n",
    "for axis in [ax1, ax2]:\n",
    "    axis.spines[\"top\"].set_visible(False)\n",
    "    axis.spines[\"right\"].set_visible(False)\n",
    "\n",
    "f.savefig(figfolder+\"figs5_pdp_and_auc.pdf\")\n",
    "\n",
    "# ax2.set_yscale(\"log\")\n",
    "\n"
   ]
  },
  {
   "cell_type": "code",
   "execution_count": 98,
   "metadata": {
    "scrolled": true
   },
   "outputs": [
    {
     "name": "stdout",
     "output_type": "stream",
     "text": [
      "Median AUC on short PDP trials is 5.937955018634052 and mean is 22.276669291787826\n",
      "Median AUC on long PDP trials is 26.714134466129565 and mean is 37.14036832311489\n",
      "Ttest_indResult(statistic=-1.566305743532648, pvalue=0.11820182862620787)\n",
      "Ttest_indResult(statistic=nan, pvalue=nan)\n",
      "Ttest_indResult(statistic=-1.0912381721623996, pvalue=0.2759362761061925)\n"
     ]
    },
    {
     "name": "stderr",
     "output_type": "stream",
     "text": [
      "C:\\ProgramData\\Anaconda3\\envs\\dis\\lib\\site-packages\\ipykernel_launcher.py:6: RuntimeWarning: invalid value encountered in sqrt\n",
      "  \n"
     ]
    }
   ],
   "source": [
    "print(\"Median AUC on short PDP trials is\", np.median(AUC_from_shPDPs), \"and mean is\", np.mean(AUC_from_shPDPs))\n",
    "print(\"Median AUC on long PDP trials is\", np.median(AUC_from_loPDPs), \"and mean is\", np.mean(AUC_from_loPDPs))\n",
    "\n",
    "print(ttest_ind(AUC_from_shPDPs, AUC_from_loPDPs))\n",
    "\n",
    "print(ttest_ind(np.sqrt(AUC_from_shPDPs), np.sqrt(AUC_from_loPDPs)))\n",
    "\n",
    "minval = np.abs(min(min(AUC_from_shPDPs), min(AUC_from_loPDPs)))\n",
    "\n",
    "tr_shPDPs = AUC_from_shPDPs + (minval + 1)\n",
    "tr_loPDPs = AUC_from_loPDPs + (minval + 1)\n",
    "\n",
    "print(ttest_ind(np.log(tr_shPDPs), np.log(tr_loPDPs)))"
   ]
  },
  {
   "cell_type": "code",
   "execution_count": null,
   "metadata": {},
   "outputs": [],
   "source": []
  }
 ],
 "metadata": {
  "kernelspec": {
   "display_name": "Python 3",
   "language": "python",
   "name": "python3"
  },
  "language_info": {
   "codemirror_mode": {
    "name": "ipython",
    "version": 3
   },
   "file_extension": ".py",
   "mimetype": "text/x-python",
   "name": "python",
   "nbconvert_exporter": "python",
   "pygments_lexer": "ipython3",
   "version": "3.7.6"
  }
 },
 "nbformat": 4,
 "nbformat_minor": 4
}
