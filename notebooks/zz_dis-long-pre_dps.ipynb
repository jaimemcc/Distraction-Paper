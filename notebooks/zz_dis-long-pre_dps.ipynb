{
 "cells": [
  {
   "cell_type": "code",
   "execution_count": 2,
   "metadata": {},
   "outputs": [],
   "source": [
    "import dill\n",
    "import matplotlib.pyplot as plt\n",
    "import matplotlib as mpl\n",
    "import matplotlib.transforms as transforms\n",
    "from matplotlib.backends.backend_pdf import PdfPages\n",
    "import numpy as np\n",
    "\n",
    "import trompy as tp\n",
    "\n",
    "%matplotlib inline\n"
   ]
  },
  {
   "cell_type": "code",
   "execution_count": 3,
   "metadata": {},
   "outputs": [],
   "source": [
    "# fig settings\n",
    "scattersize=50\n",
    "\n",
    "colors = ['darkturquoise','dodgerblue', 'darkblue']"
   ]
  },
  {
   "cell_type": "code",
   "execution_count": 4,
   "metadata": {},
   "outputs": [],
   "source": [
    "datafolder = \"C:\\\\Github\\\\Distraction-Paper\\\\data\\\\\"\n",
    "figfolder = \"C:\\\\Github\\\\Distraction-Paper\\\\figs\\\\\"\n",
    "outputfolder = \"C:\\\\Github\\\\Distraction-Paper\\\\output\\\\\"\n",
    "\n",
    "try:\n",
    "    pickle_in = open(datafolder + \"distraction_data_only_snips.pickle\", 'rb')\n",
    "except FileNotFoundError:\n",
    "        print('Cannot access pickled file')\n",
    "\n",
    "[modDict, disDict, habDict] = dill.load(pickle_in)"
   ]
  },
  {
   "cell_type": "code",
   "execution_count": 5,
   "metadata": {},
   "outputs": [
    {
     "data": {
      "text/plain": [
       "''"
      ]
     },
     "execution_count": 5,
     "metadata": {},
     "output_type": "execute_result"
    }
   ],
   "source": [
    "# thph2.8 removed from analysis because no data on habituation day\n",
    "\n",
    "modDict.pop('thph2.8')\n",
    "disDict.pop('thph2.8')\n",
    ";"
   ]
  },
  {
   "cell_type": "code",
   "execution_count": 6,
   "metadata": {},
   "outputs": [],
   "source": [
    "pre_dps_distracted = []\n",
    "pre_dps_notdistracted =[]\n",
    "\n",
    "pre_dps_distracted_all = []\n",
    "pre_dps_notdistracted_all =[]\n",
    "\n",
    "rats = disDict.keys()\n",
    "for rat in rats:\n",
    "    d = disDict[rat]\n",
    "    \n",
    "    pre_dps = [x for x, L in zip(d['pre_dp'], d[\"d_bool_array\"]) if not L]\n",
    "    pre_dps_notdistracted.append(np.mean(pre_dps))\n",
    "    pre_dps_notdistracted_all.append(pre_dps)\n",
    "    \n",
    "    pre_dps = [x for x, L in zip(d['pre_dp'], d[\"d_bool_array\"]) if L]\n",
    "    pre_dps_distracted.append(np.mean(pre_dps))\n",
    "    pre_dps_distracted_all.append(pre_dps)\n",
    "\n",
    "pre_dps_notdistracted_all = tp.flatten_list(pre_dps_notdistracted_all)\n",
    "pre_dps_distracted_all = tp.flatten_list(pre_dps_distracted_all)"
   ]
  },
  {
   "cell_type": "code",
   "execution_count": 7,
   "metadata": {},
   "outputs": [
    {
     "name": "stderr",
     "output_type": "stream",
     "text": [
      "C:\\ProgramData\\Anaconda3\\envs\\dis\\lib\\site-packages\\numpy\\core\\_asarray.py:83: VisibleDeprecationWarning: Creating an ndarray from ragged nested sequences (which is a list-or-tuple of lists-or-tuples-or ndarrays with different lengths or shapes) is deprecated. If you meant to do this, you must specify 'dtype=object' when creating the ndarray\n",
      "  return array(a, dtype, copy=False, order=order)\n"
     ]
    },
    {
     "data": {
      "image/png": "[encoded data removed]",
      "text/plain": [
       "<Figure size 144x216 with 1 Axes>"
      ]
     },
     "metadata": {
      "needs_background": "light"
     },
     "output_type": "display_data"
    }
   ],
   "source": [
    "dis_x, dis_sem = tp.mean_and_sem(pre_dps_distracted_all)\n",
    "notdis_x, notdis_sem = tp.mean_and_sem(pre_dps_notdistracted_all)\n",
    "\n",
    "f, ax = plt.subplots(figsize=(2,3))\n",
    "f.subplots_adjust(left=0.3)\n",
    "\n",
    "boxes = ax.boxplot([pre_dps_notdistracted_all, pre_dps_distracted_all],\n",
    "          widths=0.7,\n",
    "          patch_artist =True,\n",
    "           notch=True)\n",
    "\n",
    "colors = [\"grey\", \"red\"]\n",
    "for box, color in zip([0, 1], colors):\n",
    "    for item in ['boxes']:\n",
    "        plt.setp(boxes[item][box], color=color)\n",
    "\n",
    "ax.set_yscale(\"log\")\n",
    "\n",
    "ax.set_ylabel(\"Pre-distraction pause (s)\")\n",
    "ax.set_xticklabels([\"Not dis.\", \"Dis.\"])\n",
    "\n",
    "ax.axhline(5, linestyle=\"--\", color=\"k\")\n",
    "\n",
    "ax.spines[\"top\"].set_visible(False)\n",
    "ax.spines[\"right\"].set_visible(False)\n",
    "\n",
    "ax.text(ax.get_xlim()[1], 5, \"5 s\", ha=\"left\", va=\"center\")\n",
    "\n",
    "f.savefig(figfolder + \"pre-dps_box.pdf\")"
   ]
  },
  {
   "cell_type": "code",
   "execution_count": 8,
   "metadata": {},
   "outputs": [
    {
     "name": "stdout",
     "output_type": "stream",
     "text": [
      "Median Pre-distraction pause on not distracted trials is  3.265822720000017\n",
      "Median Pre-distraction pause on distracted trials is  5.56580864\n",
      "Ttest_indResult(statistic=1.3737255699774387, pvalue=0.16994974160237256)\n",
      "Ttest_indResult(statistic=5.240128364556177, pvalue=2.1038028537723913e-07)\n",
      "The proportion of trials in which the last distractor was within the baseline period is approximately:\n",
      "0.6361323155216285 for nondistracted trials.\n",
      "0.4071246819338422 for distracted trials.\n"
     ]
    }
   ],
   "source": [
    "from scipy.stats import ttest_rel as ttest\n",
    "from scipy.stats import ttest_ind as ttest_ind\n",
    "\n",
    "print(\"Median Pre-distraction pause on not distracted trials is \", np.median(pre_dps_notdistracted_all))\n",
    "print(\"Median Pre-distraction pause on distracted trials is \", np.median(pre_dps_distracted_all))\n",
    "\n",
    "print(ttest_ind(pre_dps_distracted_all, pre_dps_notdistracted_all))\n",
    "\n",
    "print(ttest_ind(np.log(pre_dps_distracted_all), np.log(pre_dps_notdistracted_all)))\n",
    "\n",
    "print(\"The proportion of trials in which the last distractor was within the baseline period is approximately:\")\n",
    "print(len([L for L in pre_dps_notdistracted_all if L < 5]) / len(pre_dps_notdistracted_all), \"for nondistracted trials.\")\n",
    "print(len([L for L in pre_dps_distracted_all if L < 5]) / len(pre_dps_notdistracted_all), \"for distracted trials.\")\n"
   ]
  },
  {
   "cell_type": "code",
   "execution_count": 9,
   "metadata": {},
   "outputs": [
    {
     "name": "stdout",
     "output_type": "stream",
     "text": [
      "0.6361323155216285 for nondistracted trials.\n"
     ]
    }
   ],
   "source": [
    "print(len([L for L in pre_dps_notdistracted_all if L < 5]) / len(pre_dps_notdistracted_all), \"for nondistracted trials.\")"
   ]
  },
  {
   "cell_type": "code",
   "execution_count": null,
   "metadata": {},
   "outputs": [],
   "source": []
  }
 ],
 "metadata": {
  "kernelspec": {
   "display_name": "Python 3",
   "language": "python",
   "name": "python3"
  },
  "language_info": {
   "codemirror_mode": {
    "name": "ipython",
    "version": 3
   },
   "file_extension": ".py",
   "mimetype": "text/x-python",
   "name": "python",
   "nbconvert_exporter": "python",
   "pygments_lexer": "ipython3",
   "version": "3.7.6"
  }
 },
 "nbformat": 4,
 "nbformat_minor": 4
}
